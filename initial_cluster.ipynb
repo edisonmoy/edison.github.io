{
  "nbformat": 4,
  "nbformat_minor": 0,
  "metadata": {
    "colab": {
      "name": "initial_cluster.ipynb",
      "provenance": [],
      "collapsed_sections": [
        "nJkuWTBCquY7",
        "BxMHQhLX_3cs",
        "NAbsZCNR5tui",
        "4x5GDLn06Jne",
        "RgXkPOm_i--r",
        "Lk_8ICTNjOhd"
      ],
      "include_colab_link": true
    },
    "kernelspec": {
      "name": "python3",
      "display_name": "Python 3"
    }
  },
  "cells": [
    {
      "cell_type": "markdown",
      "metadata": {
        "id": "view-in-github",
        "colab_type": "text"
      },
      "source": [
        "<a href=\"https://colab.research.google.com/github/edisonmoy/edisonmoy.github.io/blob/master/initial_cluster.ipynb\" target=\"_parent\"><img src=\"https://colab.research.google.com/assets/colab-badge.svg\" alt=\"Open In Colab\"/></a>"
      ]
    },
    {
      "cell_type": "markdown",
      "metadata": {
        "id": "jau1APEpbtYk"
      },
      "source": [
        "# Clustering word embeddings\n",
        "Using different dimensionality reduction and clustering methods, see how the model's word embeddings perform. This is testing on Alex and Javed's first gensim word2vec *model.model*\n",
        "\n",
        "Dimensionality reduction methods:\n",
        "- PCA\n",
        "- t-SNE\n",
        "- UMAP\n",
        "\n",
        "Clustering methods:\n",
        "- HDBSCAN\n",
        "- K-means\n"
      ]
    },
    {
      "cell_type": "markdown",
      "metadata": {
        "id": "nJkuWTBCquY7"
      },
      "source": [
        "# Load model & sanity checks"
      ]
    },
    {
      "cell_type": "code",
      "metadata": {
        "id": "5r7lnruGbw2P",
        "colab": {
          "base_uri": "https://localhost:8080/",
          "height": 122
        },
        "outputId": "84d752f7-9747-47b4-c168-f6c03fc1a4bd"
      },
      "source": [
        "# Load model\n",
        "import os\n",
        "from google.colab import drive\n",
        "from gensim.models import Word2Vec\n",
        "drive.mount('/content/drive', force_remount=True)\n",
        "\n",
        "model = Word2Vec.load(\"drive/My Drive/Textualism/JudgyVec/model.model\")"
      ],
      "execution_count": null,
      "outputs": [
        {
          "output_type": "stream",
          "text": [
            "Go to this URL in a browser: https://accounts.google.com/o/oauth2/auth?client_id=947318989803-6bn6qk8qdgf4n4g3pfee6491hc0brc4i.apps.googleusercontent.com&redirect_uri=urn%3aietf%3awg%3aoauth%3a2.0%3aoob&response_type=code&scope=email%20https%3a%2f%2fwww.googleapis.com%2fauth%2fdocs.test%20https%3a%2f%2fwww.googleapis.com%2fauth%2fdrive%20https%3a%2f%2fwww.googleapis.com%2fauth%2fdrive.photos.readonly%20https%3a%2f%2fwww.googleapis.com%2fauth%2fpeopleapi.readonly\n",
            "\n",
            "Enter your authorization code:\n",
            "··········\n",
            "Mounted at /content/drive\n"
          ],
          "name": "stdout"
        }
      ]
    },
    {
      "cell_type": "code",
      "metadata": {
        "id": "aYxn7fQ_h1uy",
        "colab": {
          "base_uri": "https://localhost:8080/",
          "height": 425
        },
        "outputId": "07f8a46a-681e-4cdf-a338-f31e3288b602"
      },
      "source": [
        "# Sanity check: compare similarity of words\n",
        "\n",
        "import numpy as np\n",
        "from tabulate import tabulate\n",
        "import pandas as pd\n",
        "\n",
        "y = ['man', 'woman', 'organic']\n",
        "x = ['her', 'him', 'she', 'his', 'president', 'judge', 'innocent', 'guilty', 'win', 'lose']\n",
        "\n",
        "data = []\n",
        "for i in x:\n",
        "  row = []\n",
        "  for j in y:\n",
        "    row.append(model.wv.similarity(i,j))\n",
        "  data.append(row)\n",
        "\n",
        "df = pd.DataFrame(data, index=x, columns=y)\n",
        "print(\"Cosine Similarity Matrix\")\n",
        "print(tabulate(df, headers=y, tablefmt='fancy_grid'))"
      ],
      "execution_count": null,
      "outputs": [
        {
          "output_type": "stream",
          "text": [
            "Cosine Similarity Matrix\n",
            "╒═══════════╤══════════╤══════════╤═══════════╕\n",
            "│           │      man │    woman │   organic │\n",
            "╞═══════════╪══════════╪══════════╪═══════════╡\n",
            "│ her       │ 0.805048 │ 0.664788 │  0.542718 │\n",
            "├───────────┼──────────┼──────────┼───────────┤\n",
            "│ him       │ 0.725513 │ 0.476964 │  0.452717 │\n",
            "├───────────┼──────────┼──────────┼───────────┤\n",
            "│ she       │ 0.831154 │ 0.659339 │  0.469928 │\n",
            "├───────────┼──────────┼──────────┼───────────┤\n",
            "│ his       │ 0.473314 │ 0.315226 │  0.283574 │\n",
            "├───────────┼──────────┼──────────┼───────────┤\n",
            "│ president │ 0.568963 │ 0.449493 │  0.500153 │\n",
            "├───────────┼──────────┼──────────┼───────────┤\n",
            "│ judge     │ 0.743565 │ 0.699761 │  0.664122 │\n",
            "├───────────┼──────────┼──────────┼───────────┤\n",
            "│ innocent  │ 0.941387 │ 0.921002 │  0.823561 │\n",
            "├───────────┼──────────┼──────────┼───────────┤\n",
            "│ guilty    │ 0.920176 │ 0.834756 │  0.862848 │\n",
            "├───────────┼──────────┼──────────┼───────────┤\n",
            "│ win       │ 0.882374 │ 0.725859 │  0.705833 │\n",
            "├───────────┼──────────┼──────────┼───────────┤\n",
            "│ lose      │ 0.550441 │ 0.356812 │  0.570384 │\n",
            "╘═══════════╧══════════╧══════════╧═══════════╛\n"
          ],
          "name": "stdout"
        }
      ]
    },
    {
      "cell_type": "code",
      "metadata": {
        "id": "fGXdEWpGmCIS",
        "colab": {
          "base_uri": "https://localhost:8080/",
          "height": 71
        },
        "outputId": "1a457a11-73fe-45f1-b2cb-4c952c1d11e6"
      },
      "source": [
        "# Show most frequent words\n",
        "num_high_freq_words = 100\n",
        "print(\"Top %i most frequent words:\" %num_high_freq_words)\n",
        "print(model.wv.index2entity[:num_high_freq_words])"
      ],
      "execution_count": null,
      "outputs": [
        {
          "output_type": "stream",
          "text": [
            "Top 100 most frequent words:\n",
            "['the', 'of', 'to', '.', 'a', 'in', 'that', 'and', 'is', 'for', 'not', 'court', 'at', 'as', 'on', 'be', 'it', 'by', 'u.', 'an', 'or', 'v.', 'this', 'with', 'was', '\\xa0\\xa0\\xa0', 'we', 'from', 'would', 'have', 'which', 'his', 'its', 'united', 'are', 'state', 'federal', 'states', 'see', 'but', 'under', 'no', 'has', 'any', 's.', 'district', 'case', 'he', 'if', 'because', 'had', 'whether', 'may', 'such', 'i', 'does', 'only', 's', 'when', 'also', 'appeals', 'other', 'congress', 'law', 'against', 'could', 'rule', 'our', 'their', 'must', 'act', 'courts', 'been', '\\r', 'government', 'court’s', 'evidence', 'one', 'than', 'these', 'were', 'did', 'there', '…', 'respondent', 'they', 'foreign', 'circuit', 'claim', 'those', 'all', 'statute', 'amendment', 'should', 'do', 's.,', 'can', 'petitioner', 'so', 'action']\n"
          ],
          "name": "stdout"
        }
      ]
    },
    {
      "cell_type": "code",
      "metadata": {
        "id": "iWRsx7PLmuL-",
        "colab": {
          "base_uri": "https://localhost:8080/",
          "height": 156
        },
        "outputId": "a4b543cf-9917-4f0e-aea3-7d6292e4ae53"
      },
      "source": [
        "#!pip install nltk\n",
        "import nltk\n",
        "from nltk.corpus import stopwords\n",
        "nltk.download('stopwords')\n",
        "\n",
        "\n",
        "# Remove stopwords\n",
        "stops = set(stopwords.words(\"english\"))\n",
        "stops -= {'she', 'her', 'hers', 'herself',\"she's\", 'he', 'him', 'his', 'himself'}\n",
        "stops.update(['the', 'a', 'in', 'that', 'and', 'is', 'for', '\\r' ,'…', 's.,', '\\\"', 'j.', '\\xa0','e.g.,', 'id.', '$', '\\'s', 's.\\xa0c.', '\\\"the', 'at', 'as', 'on', 'be', 'it', 'by', 'u.', 'an', 'or', 'v.', 'this', 'with', 'of', '.', 'was', '\\xa0\\xa0\\xa0', 'from', 'would','\\t\\t\\t\\t\\t\\t\\t\\t\\tdavis','have','which', 'its', 'are', 's.', 'because', 'had', 'whether', 'may', 'such', 'does', 's' ,'also', 'when', 'could'])\n",
        "print (\"Stopwords in NLKT without the gendered pronouns:\")\n",
        "print(stops)\n",
        "\n",
        "words = list(model.wv.vocab)\n",
        "\n",
        "words_remove_list = []\n",
        "for word in words:\n",
        "    if word in stops:\n",
        "        words_remove_list.append(word)\n",
        "\n",
        "for word in words_remove_list:\n",
        "    words.remove(word)\n",
        "\n",
        "print(\"\\nTop %i most frequent words without stopwords:\" %num_high_freq_words)\n",
        "out = []\n",
        "for word in list(model.wv.index2entity):\n",
        "  if word in words:\n",
        "    out.append(word)\n",
        "    if len(out) >= 100:\n",
        "      print(out)\n",
        "      break\n"
      ],
      "execution_count": null,
      "outputs": [
        {
          "output_type": "stream",
          "text": [
            "[nltk_data] Downloading package stopwords to /root/nltk_data...\n",
            "[nltk_data]   Package stopwords is already up-to-date!\n",
            "Stopwords in NLKT without the gendered pronouns:\n",
            "{'other', 'd', 'has', 'needn', 'you', 'can', 'these', 's.,', 'been', '\\xa0\\xa0\\xa0', 'more', \"mightn't\", 'may', \"needn't\", 'hasn', \"wasn't\", 'that', 'didn', 'before', 'but', 'for', 'between', 'there', 'because', '\\xa0', 'through', \"isn't\", 'after', 'too', \"won't\", 'did', 'm', 'over', 'once', 'or', 'y', 'an', 'any', 'ours', \"couldn't\", 'yours', 'each', '\"the', 'few', 'a', 'could', \"hasn't\", 'haven', 'from', 'who', 'very', 'be', 'so', 'of', 'e.g.,', 'during', 'was', \"that'll\", 'what', 'the', 'ain', 'my', 'whether', 'this', 't', 'we', \"you're\", 'in', 'by', \"weren't\", 'against', \"you've\", 'hadn', 'o', 'mightn', 'again', 'why', 'when', 'such', 'down', 'couldn', 'on', 've', 'isn', \"wouldn't\", 'to', 'll', \"you'd\", 'does', 'ourselves', '\\r', 'them', 'u.', 'v.', 'how', 're', 'about', 'both', 'above', 'now', \"hadn't\", 'its', '.', 'all', 'only', 'some', \"'s\", \"haven't\", 'is', \"doesn't\", \"mustn't\", 'itself', 'with', 'below', 'which', 's', 'me', 'not', 'theirs', 'do', 'should', 'whom', 'won', 'no', 'have', 'into', 'would', '\\t\\t\\t\\t\\t\\t\\t\\t\\tdavis', 'yourselves', 'being', 'having', 'ma', 'themselves', 'your', \"you'll\", 'shan', 's.', \"shouldn't\", 'just', 'where', 'those', 'up', 'am', 'off', \"don't\", \"shan't\", 'were', 'they', 'j.', 'while', '\"', 'here', 'our', 'and', 'i', 'then', \"should've\", 'also', '$', 'nor', 'wasn', 'out', 'aren', 'weren', 'had', 'mustn', 's.\\xa0c.', 'than', 'as', 'own', 'myself', 'their', 'doing', 'same', \"didn't\", '…', 'wouldn', 'under', 'further', 'yourself', 'if', 'it', 'most', 'doesn', 'shouldn', 'at', 'id.', \"it's\", 'until', \"aren't\", 'will', 'don', 'are'}\n",
            "\n",
            "Top 100 most frequent words without stopwords:\n",
            "['court', 'his', 'united', 'state', 'federal', 'states', 'see', 'district', 'case', 'he', 'appeals', 'congress', 'law', 'rule', 'must', 'act', 'courts', 'government', 'court’s', 'evidence', 'one', 'respondent', 'foreign', 'circuit', 'claim', 'statute', 'amendment', 'petitioner', 'action', 'even', 'question', 'jurisdiction', 'constitutional', 'habeas', 'justice', 'bankruptcy', 'application', 'cases', 'time', '“', 'opinion', 'new', 'however,', 'two', 'within', 'held', 'issue', 'claims', 'supra,', 'judicial', 'first', 'process', 'power', 'writ', 'order', 'authority', 'j.,', 'rights', 'filed', 'immunity', 'police', 'criminal', 'decision', 'id.,', 'might', 'discovery', 'conduct', 'right', 'judgment', 'without', '§', 'reasonable', 'part', 'plan', 'cannot', 'upon', 'make', '’s', 'him', 'miranda', 'petition', 'executive', 'relevant', 'certiorari', 'public', 'use', 'interest', 'argument', '“the', 'officer', 'made', 'apply', 'clause', 'exercise', 'warrant', 'sovereign', 'see,', 'case,', 'legal', 'her']\n"
          ],
          "name": "stdout"
        }
      ]
    },
    {
      "cell_type": "markdown",
      "metadata": {
        "id": "BxMHQhLX_3cs"
      },
      "source": [
        "# Dimensionality Reduction\n",
        "Use dimensionality reduction methods to map word embeddings to 2-dimensions:\n",
        "- PCA\n",
        "- t-SNE\n",
        "- UMAP"
      ]
    },
    {
      "cell_type": "code",
      "metadata": {
        "id": "Mwlpj85keGQv",
        "colab": {
          "base_uri": "https://localhost:8080/",
          "height": 85
        },
        "outputId": "b0d51be7-123e-421f-807d-58af75c28014"
      },
      "source": [
        "#!pip install umap-learn\n",
        "#!pip install MulticoreTSNE\n",
        "from sklearn.decomposition import PCA\n",
        "from sklearn.manifold import TSNE\n",
        "from MulticoreTSNE import MulticoreTSNE as mcTSNE\n",
        "from umap import UMAP\n",
        "import time\n",
        "import warnings\n",
        "warnings.filterwarnings(\"ignore\")\n",
        "\n",
        "X = model[words]\n",
        "\n",
        "# fit a 2d PCA model to the vectors\n",
        "print(\"Fitting PCA to vectors... \", end=\"\", flush=\"True\")\n",
        "start = time.time()\n",
        "pca = PCA(n_components=2).fit_transform(X)\n",
        "print(\"Done in %f seconds\"%(time.time()-start))\n",
        "\n",
        "# fit a 2d multicore t-SNE model to the vectors\n",
        "print(\"Fitting multicore t-SNE to vectors... \", end=\"\", flush=\"True\")\n",
        "start = time.time()\n",
        "# tsne = mcTSNE(n_components=2).fit_transform(X)\n",
        "print(\"Done in %f seconds\"%(time.time()-start))\n",
        "\n",
        "#fit a 2d t-SNE model to the vectors\n",
        "print(\"Fitting t-SNE to vectors... \", end=\"\", flush=\"True\")\n",
        "start = time.time()\n",
        "# tsne = TSNE(n_components=2).fit_transform(X)\n",
        "print(\"Done in %f seconds\"%(time.time()-start))\n",
        "\n",
        "\n",
        "#fit a 2d UMAP model to the vectors\n",
        "print(\"Fitting UMAP to vectors... \", end=\"\", flush=\"True\")\n",
        "start = time.time()\n",
        "# umap = UMAP(n_components=2).fit_transform(X)\n",
        "print(\"Done in %f seconds\"%(time.time()-start))\n"
      ],
      "execution_count": null,
      "outputs": [
        {
          "output_type": "stream",
          "text": [
            "Fitting PCA to vectors... Done in 0.208461 seconds\n",
            "Fitting multicore t-SNE to vectors... Done in 0.000043 seconds\n",
            "Fitting t-SNE to vectors... Done in 0.000039 seconds\n",
            "Fitting UMAP to vectors... Done in 0.000052 seconds\n"
          ],
          "name": "stdout"
        }
      ]
    },
    {
      "cell_type": "code",
      "metadata": {
        "id": "Stoog6pkdrHj",
        "colab": {
          "base_uri": "https://localhost:8080/",
          "height": 232
        },
        "outputId": "9b059742-9397-4dd6-fc53-26fd32e0ef2a"
      },
      "source": [
        "# create a scatter plot of the projection\n",
        "import matplotlib.pyplot as plt\n",
        "%matplotlib inline\n",
        "limit = 50\n",
        "\n",
        "for dr_tuple in [(pca, \"PCA\"), (tsne, \"t-SNE\"), (umap, \"UMAP\")]:\n",
        "  dr_model, name = dr_tuple[0], dr_tuple[1]\n",
        "  plt.scatter(dr_model[:limit, 0], dr_model[:limit, 1])\n",
        "  plt.title(name)\n",
        "  for i, word in enumerate(words[:limit]):\n",
        "      plt.annotate(word, xy=(dr_model[i, 0], dr_model[i, 1]))\n",
        "  plt.show()"
      ],
      "execution_count": null,
      "outputs": [
        {
          "output_type": "error",
          "ename": "NameError",
          "evalue": "ignored",
          "traceback": [
            "\u001b[0;31m---------------------------------------------------------------------------\u001b[0m",
            "\u001b[0;31mNameError\u001b[0m                                 Traceback (most recent call last)",
            "\u001b[0;32m<ipython-input-13-b6f6e2df9536>\u001b[0m in \u001b[0;36m<module>\u001b[0;34m()\u001b[0m\n\u001b[1;32m      3\u001b[0m \u001b[0mlimit\u001b[0m \u001b[0;34m=\u001b[0m \u001b[0;36m50\u001b[0m\u001b[0;34m\u001b[0m\u001b[0;34m\u001b[0m\u001b[0m\n\u001b[1;32m      4\u001b[0m \u001b[0;34m\u001b[0m\u001b[0m\n\u001b[0;32m----> 5\u001b[0;31m \u001b[0;32mfor\u001b[0m \u001b[0mdr_tuple\u001b[0m \u001b[0;32min\u001b[0m \u001b[0;34m[\u001b[0m\u001b[0;34m(\u001b[0m\u001b[0mpca\u001b[0m\u001b[0;34m,\u001b[0m \u001b[0;34m\"PCA\"\u001b[0m\u001b[0;34m)\u001b[0m\u001b[0;34m,\u001b[0m \u001b[0;34m(\u001b[0m\u001b[0mtsne\u001b[0m\u001b[0;34m,\u001b[0m \u001b[0;34m\"t-SNE\"\u001b[0m\u001b[0;34m)\u001b[0m\u001b[0;34m,\u001b[0m \u001b[0;34m(\u001b[0m\u001b[0mumap\u001b[0m\u001b[0;34m,\u001b[0m \u001b[0;34m\"UMAP\"\u001b[0m\u001b[0;34m)\u001b[0m\u001b[0;34m]\u001b[0m\u001b[0;34m:\u001b[0m\u001b[0;34m\u001b[0m\u001b[0;34m\u001b[0m\u001b[0m\n\u001b[0m\u001b[1;32m      6\u001b[0m   \u001b[0mdr_model\u001b[0m\u001b[0;34m,\u001b[0m \u001b[0mname\u001b[0m \u001b[0;34m=\u001b[0m \u001b[0mdr_tuple\u001b[0m\u001b[0;34m[\u001b[0m\u001b[0;36m0\u001b[0m\u001b[0;34m]\u001b[0m\u001b[0;34m,\u001b[0m \u001b[0mdr_tuple\u001b[0m\u001b[0;34m[\u001b[0m\u001b[0;36m1\u001b[0m\u001b[0;34m]\u001b[0m\u001b[0;34m\u001b[0m\u001b[0;34m\u001b[0m\u001b[0m\n\u001b[1;32m      7\u001b[0m   \u001b[0mplt\u001b[0m\u001b[0;34m.\u001b[0m\u001b[0mscatter\u001b[0m\u001b[0;34m(\u001b[0m\u001b[0mdr_model\u001b[0m\u001b[0;34m[\u001b[0m\u001b[0;34m:\u001b[0m\u001b[0mlimit\u001b[0m\u001b[0;34m,\u001b[0m \u001b[0;36m0\u001b[0m\u001b[0;34m]\u001b[0m\u001b[0;34m,\u001b[0m \u001b[0mdr_model\u001b[0m\u001b[0;34m[\u001b[0m\u001b[0;34m:\u001b[0m\u001b[0mlimit\u001b[0m\u001b[0;34m,\u001b[0m \u001b[0;36m1\u001b[0m\u001b[0;34m]\u001b[0m\u001b[0;34m)\u001b[0m\u001b[0;34m\u001b[0m\u001b[0;34m\u001b[0m\u001b[0m\n",
            "\u001b[0;31mNameError\u001b[0m: name 'tsne' is not defined"
          ]
        }
      ]
    },
    {
      "cell_type": "code",
      "metadata": {
        "id": "A0znVWDU69nR",
        "colab": {
          "base_uri": "https://localhost:8080/",
          "height": 281
        },
        "outputId": "85ecb2df-659e-4ed5-bb46-eb06e675028b"
      },
      "source": [
        "import matplotlib.pyplot as plt\n",
        "\n",
        "# Model gendered and interesting words\n",
        "interesting_words = ['men', 'man', 'him', 'himself', 'he', 'male', 'women', 'woman', 'her', 'herself', 'she', 'female', 'guilty', 'innocent', 'president','win', 'lose', 'jury', 'judge']\n",
        "\n",
        "X = model[interesting_words]\n",
        "\n",
        "dr_model = PCA(n_components=2).fit_transform(X)\n",
        "\n",
        "plt.scatter(dr_model[:, 0], dr_model[:, 1])\n",
        "plt.title(\"PCA\")\n",
        "for i, word in enumerate(interesting_words):\n",
        "    plt.annotate(word, xy=(dr_model[i, 0], dr_model[i, 1]))\n",
        "plt.show()"
      ],
      "execution_count": null,
      "outputs": [
        {
          "output_type": "display_data",
          "data": {
            "image/png": "[encoded data removed]",
            "text/plain": [
              "<Figure size 432x288 with 1 Axes>"
            ]
          },
          "metadata": {
            "tags": []
          }
        }
      ]
    },
    {
      "cell_type": "markdown",
      "metadata": {
        "id": "NAbsZCNR5tui"
      },
      "source": [
        "# HDBSCAN\n",
        "Unsupervised learning to find density based clusters."
      ]
    },
    {
      "cell_type": "code",
      "metadata": {
        "id": "bYSFXH3bfoEr",
        "colab": {
          "base_uri": "https://localhost:8080/",
          "height": 136
        },
        "outputId": "3861169b-81d5-4507-f00c-3a0d32233310"
      },
      "source": [
        "#!pip install hdbscan\n",
        "import hdbscan\n",
        "import seaborn as sns\n",
        "import matplotlib.pyplot as plt\n",
        "\n",
        "#Choose dimensionality reduction model [pca, tsne, umap]\n",
        "model_in_use = pca\n",
        "\n",
        "# Result mapping on first LIMIT word embeddings\n",
        "result = model_in_use[:limit]\n",
        "\n",
        "#Run HDBSCAN on mapping on first LIMIT words\n",
        "\n",
        "sns.set_context('paper')\n",
        "sns.set_style('whitegrid')\n",
        "sns.set_color_codes()\n",
        "plot_kwds = {'alpha' : 0.5, 's' : 80, 'linewidths':0}\n",
        "\n",
        "clusterer = hdbscan.HDBSCAN(min_cluster_size=5, gen_min_span_tree=True)\n",
        "clusterer.fit(result)"
      ],
      "execution_count": null,
      "outputs": [
        {
          "output_type": "execute_result",
          "data": {
            "text/plain": [
              "HDBSCAN(algorithm='best', allow_single_cluster=False, alpha=1.0,\n",
              "        approx_min_span_tree=True, cluster_selection_epsilon=0.0,\n",
              "        cluster_selection_method='eom', core_dist_n_jobs=4,\n",
              "        gen_min_span_tree=True, leaf_size=40,\n",
              "        match_reference_implementation=False, memory=Memory(location=None),\n",
              "        metric='euclidean', min_cluster_size=5, min_samples=None, p=None,\n",
              "        prediction_data=False)"
            ]
          },
          "metadata": {
            "tags": []
          },
          "execution_count": 14
        }
      ]
    },
    {
      "cell_type": "code",
      "metadata": {
        "id": "KA3idejLfr-2",
        "colab": {
          "base_uri": "https://localhost:8080/",
          "height": 265
        },
        "outputId": "a7acdd1b-e783-4f79-9b46-b369c31bbf27"
      },
      "source": [
        "# Create MST\n",
        "clusterer.minimum_spanning_tree_.plot(edge_cmap='viridis',\n",
        "                                      edge_alpha=0.6,\n",
        "                                      node_size=80,\n",
        "                                      edge_linewidth=1.6)"
      ],
      "execution_count": null,
      "outputs": [
        {
          "output_type": "execute_result",
          "data": {
            "text/plain": [
              "<matplotlib.axes._subplots.AxesSubplot at 0x7f0e221f8208>"
            ]
          },
          "metadata": {
            "tags": []
          },
          "execution_count": 16
        },
        {
          "output_type": "display_data",
          "data": {
            "image/png": "[encoded data removed]",
            "text/plain": [
              "<Figure size 432x288 with 2 Axes>"
            ]
          },
          "metadata": {
            "tags": []
          }
        }
      ]
    },
    {
      "cell_type": "code",
      "metadata": {
        "id": "NCUEa1Ihfum2",
        "colab": {
          "base_uri": "https://localhost:8080/",
          "height": 271
        },
        "outputId": "b8838ac4-4168-4fdb-b31b-6100b9e6d43c"
      },
      "source": [
        "# Create cluster hierarchy\n",
        "clusterer.single_linkage_tree_.plot(cmap='viridis', colorbar=True)"
      ],
      "execution_count": null,
      "outputs": [
        {
          "output_type": "execute_result",
          "data": {
            "text/plain": [
              "<matplotlib.axes._subplots.AxesSubplot at 0x7f0e220d0e10>"
            ]
          },
          "metadata": {
            "tags": []
          },
          "execution_count": 17
        },
        {
          "output_type": "display_data",
          "data": {
            "image/png": "[encoded data removed]",
            "text/plain": [
              "<Figure size 432x288 with 2 Axes>"
            ]
          },
          "metadata": {
            "tags": []
          }
        }
      ]
    },
    {
      "cell_type": "code",
      "metadata": {
        "id": "L5q_IHvRfwHN",
        "colab": {
          "base_uri": "https://localhost:8080/",
          "height": 274
        },
        "outputId": "654387b8-7acf-461e-a3ab-d10685db05db"
      },
      "source": [
        "# Condense cluster tree\n",
        "clusterer.condensed_tree_.plot()"
      ],
      "execution_count": null,
      "outputs": [
        {
          "output_type": "execute_result",
          "data": {
            "text/plain": [
              "<matplotlib.axes._subplots.AxesSubplot at 0x7f0e221e8eb8>"
            ]
          },
          "metadata": {
            "tags": []
          },
          "execution_count": 18
        },
        {
          "output_type": "display_data",
          "data": {
            "image/png": "[encoded data removed]",
            "text/plain": [
              "<Figure size 432x288 with 2 Axes>"
            ]
          },
          "metadata": {
            "tags": []
          }
        }
      ]
    },
    {
      "cell_type": "code",
      "metadata": {
        "id": "PvthplbufySo",
        "colab": {
          "base_uri": "https://localhost:8080/",
          "height": 274
        },
        "outputId": "e06053d7-1803-40d0-8891-131591ff0e52"
      },
      "source": [
        "# Highlight clusters\n",
        "clusterer.condensed_tree_.plot(select_clusters=True, selection_palette=sns.color_palette())"
      ],
      "execution_count": null,
      "outputs": [
        {
          "output_type": "execute_result",
          "data": {
            "text/plain": [
              "<matplotlib.axes._subplots.AxesSubplot at 0x7f0e1ec6f198>"
            ]
          },
          "metadata": {
            "tags": []
          },
          "execution_count": 19
        },
        {
          "output_type": "display_data",
          "data": {
            "image/png": "[encoded data removed]",
            "text/plain": [
              "<Figure size 432x288 with 2 Axes>"
            ]
          },
          "metadata": {
            "tags": []
          }
        }
      ]
    },
    {
      "cell_type": "code",
      "metadata": {
        "id": "1tY3dJcBf0Qm",
        "colab": {
          "base_uri": "https://localhost:8080/",
          "height": 266
        },
        "outputId": "d017fa8a-6088-4514-f509-d9bbb089809c"
      },
      "source": [
        "# Group clusters by color\n",
        "palette = sns.color_palette()\n",
        "cluster_colors = [sns.desaturate(palette[col % 10], sat)\n",
        "                  if col >= 0 else (0.5, 0.5, 0.5) for col, sat in\n",
        "                  zip(clusterer.labels_, clusterer.probabilities_)]\n",
        "plt.scatter(result.T[0], result.T[1], c=cluster_colors, **plot_kwds)\n",
        "for i, word in enumerate(words[:limit]):\n",
        "    plt.annotate(word, xy=(result[i, 0], result[i, 1]))\n",
        "plt.show()"
      ],
      "execution_count": null,
      "outputs": [
        {
          "output_type": "display_data",
          "data": {
            "image/png": "[encoded data removed]",
            "text/plain": [
              "<Figure size 432x288 with 1 Axes>"
            ]
          },
          "metadata": {
            "tags": []
          }
        }
      ]
    },
    {
      "cell_type": "markdown",
      "metadata": {
        "id": "4x5GDLn06Jne"
      },
      "source": [
        "# K-means Clustering\n",
        "Find a specified k number of centers where all points are clustered to the nearest center, minimizing total distance from centers."
      ]
    },
    {
      "cell_type": "code",
      "metadata": {
        "id": "XY5kkLklyWaV"
      },
      "source": [
        "#Choose dimensionality reduction model [pca, tsne, umap]\n",
        "model_in_use = pca\n",
        "\n",
        "# Result mapping on first LIMIT word embeddings\n",
        "result = model_in_use[:limit]"
      ],
      "execution_count": null,
      "outputs": []
    },
    {
      "cell_type": "code",
      "metadata": {
        "id": "YW9Mwh5K6N6_",
        "colab": {
          "base_uri": "https://localhost:8080/",
          "height": 294
        },
        "outputId": "e191d507-fd4d-46b6-db21-e6a05c7d349e"
      },
      "source": [
        "# Use Elbow Method to find number of clusters\n",
        "\n",
        "from sklearn.cluster import KMeans\n",
        "\n",
        "wcss = []\n",
        "for i in range(1, 8):\n",
        "    kmeans = KMeans(n_clusters=i, init='k-means++', max_iter=300, n_init=10, random_state=0)\n",
        "    kmeans.fit(result)\n",
        "    wcss.append(kmeans.inertia_)\n",
        "plt.plot(range(1, 8), wcss)\n",
        "plt.title('Elbow Method')\n",
        "plt.xlabel('Number of clusters')\n",
        "plt.ylabel('WCSS')\n",
        "plt.show()"
      ],
      "execution_count": null,
      "outputs": [
        {
          "output_type": "display_data",
          "data": {
            "image/png": "[encoded data removed]",
            "text/plain": [
              "<Figure size 432x288 with 1 Axes>"
            ]
          },
          "metadata": {
            "tags": []
          }
        }
      ]
    },
    {
      "cell_type": "code",
      "metadata": {
        "id": "OvEZELBM6rh7",
        "colab": {
          "base_uri": "https://localhost:8080/",
          "height": 283
        },
        "outputId": "345332ea-de8a-4326-fccc-2dc0c824c207"
      },
      "source": [
        "# Number of clusters\n",
        "num_clusters = 3\n",
        "\n",
        "kmeans = KMeans(n_clusters=num_clusters, init='k-means++', max_iter=300, n_init=10, random_state=0)\n",
        "pred_y = kmeans.fit_predict(result)\n",
        "\n",
        "plt.scatter(result[:, 0], result[:, 1], c=pred_y, s=50, cmap='viridis')\n",
        "centers = kmeans.cluster_centers_\n",
        "plt.scatter(centers[:, 0], centers[:, 1], c='black', s=200, alpha=0.5)\n",
        "for i, word in enumerate(words[:limit]):\n",
        "    plt.annotate(word, xy=(result[i, 0], result[i, 1]))\n",
        "plt.show()\n",
        "\n",
        "print(\"k-means clustering with %d clusters\" % num_clusters)"
      ],
      "execution_count": null,
      "outputs": [
        {
          "output_type": "display_data",
          "data": {
            "image/png": "[encoded data removed]",
            "text/plain": [
              "<Figure size 432x288 with 1 Axes>"
            ]
          },
          "metadata": {
            "tags": []
          }
        },
        {
          "output_type": "stream",
          "text": [
            "k-means clustering with 3 clusters\n"
          ],
          "name": "stdout"
        }
      ]
    },
    {
      "cell_type": "markdown",
      "metadata": {
        "id": "RgXkPOm_i--r"
      },
      "source": [
        "#Non-negative Matrix Factorization\n",
        "Find two non-negative matrices (W, H) whose product approximates the non- negative matrix X. This factorization can be used for example for dimensionality reduction, source separation or topic extraction.\n"
      ]
    },
    {
      "cell_type": "code",
      "metadata": {
        "id": "KCtlwB13i-Tf",
        "colab": {
          "base_uri": "https://localhost:8080/",
          "height": 231
        },
        "outputId": "21b65ec4-b6d5-4584-bd2b-183d96b755f1"
      },
      "source": [
        "from sklearn.decomposition import NMF\n",
        "model = NMF(n_components=2, init='random', random_state=0)\n",
        "W = model.fit_transform(X)\n",
        "H = model.components\n",
        "H"
      ],
      "execution_count": null,
      "outputs": [
        {
          "output_type": "error",
          "ename": "NameError",
          "evalue": "ignored",
          "traceback": [
            "\u001b[0;31m---------------------------------------------------------------------------\u001b[0m",
            "\u001b[0;31mNameError\u001b[0m                                 Traceback (most recent call last)",
            "\u001b[0;32m<ipython-input-1-df40c5322d39>\u001b[0m in \u001b[0;36m<module>\u001b[0;34m()\u001b[0m\n\u001b[1;32m      1\u001b[0m \u001b[0;32mfrom\u001b[0m \u001b[0msklearn\u001b[0m\u001b[0;34m.\u001b[0m\u001b[0mdecomposition\u001b[0m \u001b[0;32mimport\u001b[0m \u001b[0mNMF\u001b[0m\u001b[0;34m\u001b[0m\u001b[0;34m\u001b[0m\u001b[0m\n\u001b[1;32m      2\u001b[0m \u001b[0mmodel\u001b[0m \u001b[0;34m=\u001b[0m \u001b[0mNMF\u001b[0m\u001b[0;34m(\u001b[0m\u001b[0mn_components\u001b[0m\u001b[0;34m=\u001b[0m\u001b[0;36m2\u001b[0m\u001b[0;34m,\u001b[0m \u001b[0minit\u001b[0m\u001b[0;34m=\u001b[0m\u001b[0;34m'random'\u001b[0m\u001b[0;34m,\u001b[0m \u001b[0mrandom_state\u001b[0m\u001b[0;34m=\u001b[0m\u001b[0;36m0\u001b[0m\u001b[0;34m)\u001b[0m\u001b[0;34m\u001b[0m\u001b[0;34m\u001b[0m\u001b[0m\n\u001b[0;32m----> 3\u001b[0;31m \u001b[0mW\u001b[0m \u001b[0;34m=\u001b[0m \u001b[0mmodel\u001b[0m\u001b[0;34m.\u001b[0m\u001b[0mfit_transform\u001b[0m\u001b[0;34m(\u001b[0m\u001b[0mX\u001b[0m\u001b[0;34m)\u001b[0m\u001b[0;34m\u001b[0m\u001b[0;34m\u001b[0m\u001b[0m\n\u001b[0m\u001b[1;32m      4\u001b[0m \u001b[0mH\u001b[0m \u001b[0;34m=\u001b[0m \u001b[0mmodel\u001b[0m\u001b[0;34m.\u001b[0m\u001b[0mcomponents\u001b[0m\u001b[0;34m\u001b[0m\u001b[0;34m\u001b[0m\u001b[0m\n\u001b[1;32m      5\u001b[0m \u001b[0mH\u001b[0m\u001b[0;34m\u001b[0m\u001b[0;34m\u001b[0m\u001b[0m\n",
            "\u001b[0;31mNameError\u001b[0m: name 'X' is not defined"
          ]
        }
      ]
    },
    {
      "cell_type": "markdown",
      "metadata": {
        "id": "Lk_8ICTNjOhd"
      },
      "source": [
        "#Gaussian Mixture Models\n",
        "Representation of a Gaussian mixture model probability distribution. This class allows to estimate the parameters of a Gaussian mixture distribution.\n",
        "\n"
      ]
    },
    {
      "cell_type": "code",
      "metadata": {
        "id": "DH0EgjfejNtq",
        "colab": {
          "base_uri": "https://localhost:8080/",
          "height": 334
        },
        "outputId": "ade18c53-cabc-4567-d867-0d3e176338b8"
      },
      "source": [
        "#!pip install sklearn.mixture\n",
        "from sklearn.mixture import GaussianMixture as GMM\n",
        "gmm = GMM(n_components=2).fit(result)\n",
        "print(gmm)\n",
        "labels = gmm.predict(result)\n",
        "plt.scatter(result[:, 0], result[:, 1], c=labels, s=40, cmap='viridis');\n",
        "for i, word in enumerate(words[:limit]):\n",
        "  plt.annotate(word, xy=(result[i, 0], result[i, 1]))\n",
        "plt.show()\n"
      ],
      "execution_count": null,
      "outputs": [
        {
          "output_type": "stream",
          "text": [
            "GaussianMixture(covariance_type='full', init_params='kmeans', max_iter=100,\n",
            "                means_init=None, n_components=2, n_init=1, precisions_init=None,\n",
            "                random_state=None, reg_covar=1e-06, tol=0.001, verbose=0,\n",
            "                verbose_interval=10, warm_start=False, weights_init=None)\n"
          ],
          "name": "stdout"
        },
        {
          "output_type": "display_data",
          "data": {
            "image/png": "[encoded data removed]",
            "text/plain": [
              "<Figure size 432x288 with 1 Axes>"
            ]
          },
          "metadata": {
            "tags": []
          }
        }
      ]
    },
    {
      "cell_type": "markdown",
      "metadata": {
        "id": "X5O9I0DRweiU"
      },
      "source": [
        "# Gender Bias Analysis\n",
        "Use clustering and similarity metrics to analyze gender bias in Supreme Court Opinions.\n",
        "\n",
        "- Create femininity vector based on the average of several \"feminine\" word embeddings."
      ]
    },
    {
      "cell_type": "markdown",
      "metadata": {
        "id": "kPLYWwTDGH6Y"
      },
      "source": [
        "### Find feminine words\n",
        "Based off of several 'seed' words, find other feminine words that have closest cosine distances"
      ]
    },
    {
      "cell_type": "code",
      "metadata": {
        "id": "9KtzyAhbw_fS",
        "colab": {
          "base_uri": "https://localhost:8080/",
          "height": 267
        },
        "outputId": "f100ff2b-7a9d-4115-a5dd-2ba593733a33"
      },
      "source": [
        "import IPython\n",
        "import random\n",
        "import warnings\n",
        "import pandas as pd\n",
        "warnings.filterwarnings(\"ignore\")\n",
        "\n",
        "\n",
        "\n",
        "def similar_vec(vec_list, indices):\n",
        "  \"\"\" Create table of ten most similar words for each word in word_list \"\"\"\n",
        "  i = 0\n",
        "  data = []\n",
        "  past_words ={''}\n",
        "  for vec in vec_list:\n",
        "    row = []\n",
        "    for j in model.most_similar(positive=[vec], topn=10):\n",
        "      similar_word = j[0]\n",
        "      # Remove non alphabetic characters\n",
        "      alphanumeric_filter = filter(str.isalpha, similar_word)\n",
        "      similar_word = \"\".join(alphanumeric_filter)\n",
        "      # Track for words that appear multiple times\n",
        "      if similar_word in past_words:\n",
        "        multiple_appearances.add((similar_word, i))\n",
        "        i += 1\n",
        "      else:\n",
        "        past_words.add(similar_word)\n",
        "      row.append(similar_word)\n",
        "    data.append(row)\n",
        "  df = pd.DataFrame(data, index=indices).transpose()\n",
        "  df = df.style.applymap(color_matching_words)\n",
        "  return df\n",
        "\n",
        "\n",
        "def color_matching_words(val):\n",
        "  colors = [\"pink\",\"green\", \"orange\", \"red\", \"blue\", \"purple\"]\n",
        "  color = \"black\"\n",
        "  for i,v in multiple_appearances:\n",
        "    if i == val:\n",
        "      color = colors[v % len(colors)]\n",
        "      break\n",
        "  return 'color: %s' % color\n",
        "\n",
        "def similar_words(word_list):\n",
        "  return similar_vec( [model[x] for x in word_list], word_list)\n",
        "\n",
        "\n",
        "feminine_words = ['women', 'woman', 'her', 'herself', 'she', 'female']\n",
        "\n",
        "print(\"Cosine Similarity: \\'Feminine\\' words\")\n",
        "multiple_appearances = {(\"\", \"\")}\n",
        "IPython.display.HTML(similar_words(feminine_words).render())"
      ],
      "execution_count": null,
      "outputs": [
        {
          "output_type": "stream",
          "text": [
            "Cosine Similarity: 'Feminine' words\n"
          ],
          "name": "stdout"
        },
        {
          "output_type": "execute_result",
          "data": {
            "text/html": [
              "<style  type=\"text/css\" >\n",
              "    #T_6629d4b2_7465_11ea_8a76_0242ac1c0002row0_col0 {\n",
              "            color:  black;\n",
              "        }    #T_6629d4b2_7465_11ea_8a76_0242ac1c0002row0_col1 {\n",
              "            color:  black;\n",
              "        }    #T_6629d4b2_7465_11ea_8a76_0242ac1c0002row0_col2 {\n",
              "            color:  black;\n",
              "        }    #T_6629d4b2_7465_11ea_8a76_0242ac1c0002row0_col3 {\n",
              "            color:  black;\n",
              "        }    #T_6629d4b2_7465_11ea_8a76_0242ac1c0002row0_col4 {\n",
              "            color:  black;\n",
              "        }    #T_6629d4b2_7465_11ea_8a76_0242ac1c0002row0_col5 {\n",
              "            color:  black;\n",
              "        }    #T_6629d4b2_7465_11ea_8a76_0242ac1c0002row1_col0 {\n",
              "            color:  black;\n",
              "        }    #T_6629d4b2_7465_11ea_8a76_0242ac1c0002row1_col1 {\n",
              "            color:  black;\n",
              "        }    #T_6629d4b2_7465_11ea_8a76_0242ac1c0002row1_col2 {\n",
              "            color:  orange;\n",
              "        }    #T_6629d4b2_7465_11ea_8a76_0242ac1c0002row1_col3 {\n",
              "            color:  black;\n",
              "        }    #T_6629d4b2_7465_11ea_8a76_0242ac1c0002row1_col4 {\n",
              "            color:  black;\n",
              "        }    #T_6629d4b2_7465_11ea_8a76_0242ac1c0002row1_col5 {\n",
              "            color:  black;\n",
              "        }    #T_6629d4b2_7465_11ea_8a76_0242ac1c0002row2_col0 {\n",
              "            color:  black;\n",
              "        }    #T_6629d4b2_7465_11ea_8a76_0242ac1c0002row2_col1 {\n",
              "            color:  black;\n",
              "        }    #T_6629d4b2_7465_11ea_8a76_0242ac1c0002row2_col2 {\n",
              "            color:  black;\n",
              "        }    #T_6629d4b2_7465_11ea_8a76_0242ac1c0002row2_col3 {\n",
              "            color:  black;\n",
              "        }    #T_6629d4b2_7465_11ea_8a76_0242ac1c0002row2_col4 {\n",
              "            color:  pink;\n",
              "        }    #T_6629d4b2_7465_11ea_8a76_0242ac1c0002row2_col5 {\n",
              "            color:  black;\n",
              "        }    #T_6629d4b2_7465_11ea_8a76_0242ac1c0002row3_col0 {\n",
              "            color:  black;\n",
              "        }    #T_6629d4b2_7465_11ea_8a76_0242ac1c0002row3_col1 {\n",
              "            color:  black;\n",
              "        }    #T_6629d4b2_7465_11ea_8a76_0242ac1c0002row3_col2 {\n",
              "            color:  black;\n",
              "        }    #T_6629d4b2_7465_11ea_8a76_0242ac1c0002row3_col3 {\n",
              "            color:  black;\n",
              "        }    #T_6629d4b2_7465_11ea_8a76_0242ac1c0002row3_col4 {\n",
              "            color:  black;\n",
              "        }    #T_6629d4b2_7465_11ea_8a76_0242ac1c0002row3_col5 {\n",
              "            color:  black;\n",
              "        }    #T_6629d4b2_7465_11ea_8a76_0242ac1c0002row4_col0 {\n",
              "            color:  black;\n",
              "        }    #T_6629d4b2_7465_11ea_8a76_0242ac1c0002row4_col1 {\n",
              "            color:  green;\n",
              "        }    #T_6629d4b2_7465_11ea_8a76_0242ac1c0002row4_col2 {\n",
              "            color:  black;\n",
              "        }    #T_6629d4b2_7465_11ea_8a76_0242ac1c0002row4_col3 {\n",
              "            color:  black;\n",
              "        }    #T_6629d4b2_7465_11ea_8a76_0242ac1c0002row4_col4 {\n",
              "            color:  black;\n",
              "        }    #T_6629d4b2_7465_11ea_8a76_0242ac1c0002row4_col5 {\n",
              "            color:  black;\n",
              "        }    #T_6629d4b2_7465_11ea_8a76_0242ac1c0002row5_col0 {\n",
              "            color:  black;\n",
              "        }    #T_6629d4b2_7465_11ea_8a76_0242ac1c0002row5_col1 {\n",
              "            color:  black;\n",
              "        }    #T_6629d4b2_7465_11ea_8a76_0242ac1c0002row5_col2 {\n",
              "            color:  black;\n",
              "        }    #T_6629d4b2_7465_11ea_8a76_0242ac1c0002row5_col3 {\n",
              "            color:  black;\n",
              "        }    #T_6629d4b2_7465_11ea_8a76_0242ac1c0002row5_col4 {\n",
              "            color:  black;\n",
              "        }    #T_6629d4b2_7465_11ea_8a76_0242ac1c0002row5_col5 {\n",
              "            color:  black;\n",
              "        }    #T_6629d4b2_7465_11ea_8a76_0242ac1c0002row6_col0 {\n",
              "            color:  black;\n",
              "        }    #T_6629d4b2_7465_11ea_8a76_0242ac1c0002row6_col1 {\n",
              "            color:  black;\n",
              "        }    #T_6629d4b2_7465_11ea_8a76_0242ac1c0002row6_col2 {\n",
              "            color:  black;\n",
              "        }    #T_6629d4b2_7465_11ea_8a76_0242ac1c0002row6_col3 {\n",
              "            color:  black;\n",
              "        }    #T_6629d4b2_7465_11ea_8a76_0242ac1c0002row6_col4 {\n",
              "            color:  green;\n",
              "        }    #T_6629d4b2_7465_11ea_8a76_0242ac1c0002row6_col5 {\n",
              "            color:  black;\n",
              "        }    #T_6629d4b2_7465_11ea_8a76_0242ac1c0002row7_col0 {\n",
              "            color:  black;\n",
              "        }    #T_6629d4b2_7465_11ea_8a76_0242ac1c0002row7_col1 {\n",
              "            color:  black;\n",
              "        }    #T_6629d4b2_7465_11ea_8a76_0242ac1c0002row7_col2 {\n",
              "            color:  pink;\n",
              "        }    #T_6629d4b2_7465_11ea_8a76_0242ac1c0002row7_col3 {\n",
              "            color:  black;\n",
              "        }    #T_6629d4b2_7465_11ea_8a76_0242ac1c0002row7_col4 {\n",
              "            color:  black;\n",
              "        }    #T_6629d4b2_7465_11ea_8a76_0242ac1c0002row7_col5 {\n",
              "            color:  black;\n",
              "        }    #T_6629d4b2_7465_11ea_8a76_0242ac1c0002row8_col0 {\n",
              "            color:  black;\n",
              "        }    #T_6629d4b2_7465_11ea_8a76_0242ac1c0002row8_col1 {\n",
              "            color:  black;\n",
              "        }    #T_6629d4b2_7465_11ea_8a76_0242ac1c0002row8_col2 {\n",
              "            color:  black;\n",
              "        }    #T_6629d4b2_7465_11ea_8a76_0242ac1c0002row8_col3 {\n",
              "            color:  black;\n",
              "        }    #T_6629d4b2_7465_11ea_8a76_0242ac1c0002row8_col4 {\n",
              "            color:  orange;\n",
              "        }    #T_6629d4b2_7465_11ea_8a76_0242ac1c0002row8_col5 {\n",
              "            color:  black;\n",
              "        }    #T_6629d4b2_7465_11ea_8a76_0242ac1c0002row9_col0 {\n",
              "            color:  black;\n",
              "        }    #T_6629d4b2_7465_11ea_8a76_0242ac1c0002row9_col1 {\n",
              "            color:  black;\n",
              "        }    #T_6629d4b2_7465_11ea_8a76_0242ac1c0002row9_col2 {\n",
              "            color:  black;\n",
              "        }    #T_6629d4b2_7465_11ea_8a76_0242ac1c0002row9_col3 {\n",
              "            color:  black;\n",
              "        }    #T_6629d4b2_7465_11ea_8a76_0242ac1c0002row9_col4 {\n",
              "            color:  black;\n",
              "        }    #T_6629d4b2_7465_11ea_8a76_0242ac1c0002row9_col5 {\n",
              "            color:  black;\n",
              "        }</style><table id=\"T_6629d4b2_7465_11ea_8a76_0242ac1c0002\" ><thead>    <tr>        <th class=\"blank level0\" ></th>        <th class=\"col_heading level0 col0\" >women</th>        <th class=\"col_heading level0 col1\" >woman</th>        <th class=\"col_heading level0 col2\" >her</th>        <th class=\"col_heading level0 col3\" >herself</th>        <th class=\"col_heading level0 col4\" >she</th>        <th class=\"col_heading level0 col5\" >female</th>    </tr></thead><tbody>\n",
              "                <tr>\n",
              "                        <th id=\"T_6629d4b2_7465_11ea_8a76_0242ac1c0002level0_row0\" class=\"row_heading level0 row0\" >0</th>\n",
              "                        <td id=\"T_6629d4b2_7465_11ea_8a76_0242ac1c0002row0_col0\" class=\"data row0 col0\" >women</td>\n",
              "                        <td id=\"T_6629d4b2_7465_11ea_8a76_0242ac1c0002row0_col1\" class=\"data row0 col1\" >woman</td>\n",
              "                        <td id=\"T_6629d4b2_7465_11ea_8a76_0242ac1c0002row0_col2\" class=\"data row0 col2\" >her</td>\n",
              "                        <td id=\"T_6629d4b2_7465_11ea_8a76_0242ac1c0002row0_col3\" class=\"data row0 col3\" >herself</td>\n",
              "                        <td id=\"T_6629d4b2_7465_11ea_8a76_0242ac1c0002row0_col4\" class=\"data row0 col4\" >she</td>\n",
              "                        <td id=\"T_6629d4b2_7465_11ea_8a76_0242ac1c0002row0_col5\" class=\"data row0 col5\" >female</td>\n",
              "            </tr>\n",
              "            <tr>\n",
              "                        <th id=\"T_6629d4b2_7465_11ea_8a76_0242ac1c0002level0_row1\" class=\"row_heading level0 row1\" >1</th>\n",
              "                        <td id=\"T_6629d4b2_7465_11ea_8a76_0242ac1c0002row1_col0\" class=\"data row1 col0\" >standards</td>\n",
              "                        <td id=\"T_6629d4b2_7465_11ea_8a76_0242ac1c0002row1_col1\" class=\"data row1 col1\" >red</td>\n",
              "                        <td id=\"T_6629d4b2_7465_11ea_8a76_0242ac1c0002row1_col2\" class=\"data row1 col2\" >retrieved</td>\n",
              "                        <td id=\"T_6629d4b2_7465_11ea_8a76_0242ac1c0002row1_col3\" class=\"data row1 col3\" >retail</td>\n",
              "                        <td id=\"T_6629d4b2_7465_11ea_8a76_0242ac1c0002row1_col4\" class=\"data row1 col4\" >alvarado</td>\n",
              "                        <td id=\"T_6629d4b2_7465_11ea_8a76_0242ac1c0002row1_col5\" class=\"data row1 col5\" >francisco</td>\n",
              "            </tr>\n",
              "            <tr>\n",
              "                        <th id=\"T_6629d4b2_7465_11ea_8a76_0242ac1c0002level0_row2\" class=\"row_heading level0 row2\" >2</th>\n",
              "                        <td id=\"T_6629d4b2_7465_11ea_8a76_0242ac1c0002row2_col0\" class=\"data row2 col0\" >clergy</td>\n",
              "                        <td id=\"T_6629d4b2_7465_11ea_8a76_0242ac1c0002row2_col1\" class=\"data row2 col1\" >pastoral</td>\n",
              "                        <td id=\"T_6629d4b2_7465_11ea_8a76_0242ac1c0002row2_col2\" class=\"data row2 col2\" >him</td>\n",
              "                        <td id=\"T_6629d4b2_7465_11ea_8a76_0242ac1c0002row2_col3\" class=\"data row2 col3\" >davis</td>\n",
              "                        <td id=\"T_6629d4b2_7465_11ea_8a76_0242ac1c0002row2_col4\" class=\"data row2 col4\" >banning</td>\n",
              "                        <td id=\"T_6629d4b2_7465_11ea_8a76_0242ac1c0002row2_col5\" class=\"data row2 col5\" >gifted</td>\n",
              "            </tr>\n",
              "            <tr>\n",
              "                        <th id=\"T_6629d4b2_7465_11ea_8a76_0242ac1c0002level0_row3\" class=\"row_heading level0 row3\" >3</th>\n",
              "                        <td id=\"T_6629d4b2_7465_11ea_8a76_0242ac1c0002row3_col0\" class=\"data row3 col0\" >contracts</td>\n",
              "                        <td id=\"T_6629d4b2_7465_11ea_8a76_0242ac1c0002row3_col1\" class=\"data row3 col1\" >private</td>\n",
              "                        <td id=\"T_6629d4b2_7465_11ea_8a76_0242ac1c0002row3_col2\" class=\"data row3 col2\" >hanson</td>\n",
              "                        <td id=\"T_6629d4b2_7465_11ea_8a76_0242ac1c0002row3_col3\" class=\"data row3 col3\" >purchase</td>\n",
              "                        <td id=\"T_6629d4b2_7465_11ea_8a76_0242ac1c0002row3_col4\" class=\"data row3 col4\" >twice</td>\n",
              "                        <td id=\"T_6629d4b2_7465_11ea_8a76_0242ac1c0002row3_col5\" class=\"data row3 col5\" >objections</td>\n",
              "            </tr>\n",
              "            <tr>\n",
              "                        <th id=\"T_6629d4b2_7465_11ea_8a76_0242ac1c0002level0_row4\" class=\"row_heading level0 row4\" >4</th>\n",
              "                        <td id=\"T_6629d4b2_7465_11ea_8a76_0242ac1c0002row4_col0\" class=\"data row4 col0\" >war</td>\n",
              "                        <td id=\"T_6629d4b2_7465_11ea_8a76_0242ac1c0002row4_col1\" class=\"data row4 col1\" >lawyer</td>\n",
              "                        <td id=\"T_6629d4b2_7465_11ea_8a76_0242ac1c0002row4_col2\" class=\"data row4 col2\" >drugs</td>\n",
              "                        <td id=\"T_6629d4b2_7465_11ea_8a76_0242ac1c0002row4_col3\" class=\"data row4 col3\" >inspections</td>\n",
              "                        <td id=\"T_6629d4b2_7465_11ea_8a76_0242ac1c0002row4_col4\" class=\"data row4 col4\" >bockmiller</td>\n",
              "                        <td id=\"T_6629d4b2_7465_11ea_8a76_0242ac1c0002row4_col5\" class=\"data row4 col5\" >cooperative</td>\n",
              "            </tr>\n",
              "            <tr>\n",
              "                        <th id=\"T_6629d4b2_7465_11ea_8a76_0242ac1c0002level0_row5\" class=\"row_heading level0 row5\" >5</th>\n",
              "                        <td id=\"T_6629d4b2_7465_11ea_8a76_0242ac1c0002row5_col0\" class=\"data row5 col0\" >incumbent</td>\n",
              "                        <td id=\"T_6629d4b2_7465_11ea_8a76_0242ac1c0002row5_col1\" class=\"data row5 col1\" >ibid</td>\n",
              "                        <td id=\"T_6629d4b2_7465_11ea_8a76_0242ac1c0002row5_col2\" class=\"data row5 col2\" >conductedfootnote</td>\n",
              "                        <td id=\"T_6629d4b2_7465_11ea_8a76_0242ac1c0002row5_col3\" class=\"data row5 col3\" >virginia</td>\n",
              "                        <td id=\"T_6629d4b2_7465_11ea_8a76_0242ac1c0002row5_col4\" class=\"data row5 col4\" >claimant</td>\n",
              "                        <td id=\"T_6629d4b2_7465_11ea_8a76_0242ac1c0002row5_col5\" class=\"data row5 col5\" >distributing</td>\n",
              "            </tr>\n",
              "            <tr>\n",
              "                        <th id=\"T_6629d4b2_7465_11ea_8a76_0242ac1c0002level0_row6\" class=\"row_heading level0 row6\" >6</th>\n",
              "                        <td id=\"T_6629d4b2_7465_11ea_8a76_0242ac1c0002row6_col0\" class=\"data row6 col0\" >christopher</td>\n",
              "                        <td id=\"T_6629d4b2_7465_11ea_8a76_0242ac1c0002row6_col1\" class=\"data row6 col1\" >doubtful</td>\n",
              "                        <td id=\"T_6629d4b2_7465_11ea_8a76_0242ac1c0002row6_col2\" class=\"data row6 col2\" >witnesses</td>\n",
              "                        <td id=\"T_6629d4b2_7465_11ea_8a76_0242ac1c0002row6_col3\" class=\"data row6 col3\" >hand</td>\n",
              "                        <td id=\"T_6629d4b2_7465_11ea_8a76_0242ac1c0002row6_col4\" class=\"data row6 col4\" >lawyer</td>\n",
              "                        <td id=\"T_6629d4b2_7465_11ea_8a76_0242ac1c0002row6_col5\" class=\"data row6 col5\" >institutionalization</td>\n",
              "            </tr>\n",
              "            <tr>\n",
              "                        <th id=\"T_6629d4b2_7465_11ea_8a76_0242ac1c0002level0_row7\" class=\"row_heading level0 row7\" >7</th>\n",
              "                        <td id=\"T_6629d4b2_7465_11ea_8a76_0242ac1c0002row7_col0\" class=\"data row7 col0\" >terminated</td>\n",
              "                        <td id=\"T_6629d4b2_7465_11ea_8a76_0242ac1c0002row7_col1\" class=\"data row7 col1\" >under</td>\n",
              "                        <td id=\"T_6629d4b2_7465_11ea_8a76_0242ac1c0002row7_col2\" class=\"data row7 col2\" >banning</td>\n",
              "                        <td id=\"T_6629d4b2_7465_11ea_8a76_0242ac1c0002row7_col3\" class=\"data row7 col3\" >complaint</td>\n",
              "                        <td id=\"T_6629d4b2_7465_11ea_8a76_0242ac1c0002row7_col4\" class=\"data row7 col4\" >he</td>\n",
              "                        <td id=\"T_6629d4b2_7465_11ea_8a76_0242ac1c0002row7_col5\" class=\"data row7 col5\" >lenders</td>\n",
              "            </tr>\n",
              "            <tr>\n",
              "                        <th id=\"T_6629d4b2_7465_11ea_8a76_0242ac1c0002level0_row8\" class=\"row_heading level0 row8\" >8</th>\n",
              "                        <td id=\"T_6629d4b2_7465_11ea_8a76_0242ac1c0002row8_col0\" class=\"data row8 col0\" >unnecessarily</td>\n",
              "                        <td id=\"T_6629d4b2_7465_11ea_8a76_0242ac1c0002row8_col1\" class=\"data row8 col1\" >familiar</td>\n",
              "                        <td id=\"T_6629d4b2_7465_11ea_8a76_0242ac1c0002row8_col2\" class=\"data row8 col2\" >corrective</td>\n",
              "                        <td id=\"T_6629d4b2_7465_11ea_8a76_0242ac1c0002row8_col3\" class=\"data row8 col3\" >crisisthat</td>\n",
              "                        <td id=\"T_6629d4b2_7465_11ea_8a76_0242ac1c0002row8_col4\" class=\"data row8 col4\" >retrieved</td>\n",
              "                        <td id=\"T_6629d4b2_7465_11ea_8a76_0242ac1c0002row8_col5\" class=\"data row8 col5\" >academically</td>\n",
              "            </tr>\n",
              "            <tr>\n",
              "                        <th id=\"T_6629d4b2_7465_11ea_8a76_0242ac1c0002level0_row9\" class=\"row_heading level0 row9\" >9</th>\n",
              "                        <td id=\"T_6629d4b2_7465_11ea_8a76_0242ac1c0002row9_col0\" class=\"data row9 col0\" >entering</td>\n",
              "                        <td id=\"T_6629d4b2_7465_11ea_8a76_0242ac1c0002row9_col1\" class=\"data row9 col1\" >judicious</td>\n",
              "                        <td id=\"T_6629d4b2_7465_11ea_8a76_0242ac1c0002row9_col2\" class=\"data row9 col2\" >anyone</td>\n",
              "                        <td id=\"T_6629d4b2_7465_11ea_8a76_0242ac1c0002row9_col3\" class=\"data row9 col3\" >concern</td>\n",
              "                        <td id=\"T_6629d4b2_7465_11ea_8a76_0242ac1c0002row9_col4\" class=\"data row9 col4\" >iq</td>\n",
              "                        <td id=\"T_6629d4b2_7465_11ea_8a76_0242ac1c0002row9_col5\" class=\"data row9 col5\" >cerebral</td>\n",
              "            </tr>\n",
              "    </tbody></table>"
            ],
            "text/plain": [
              "<IPython.core.display.HTML object>"
            ]
          },
          "metadata": {
            "tags": []
          },
          "execution_count": 5
        }
      ]
    },
    {
      "cell_type": "code",
      "metadata": {
        "id": "brfGpnvfrCep",
        "colab": {
          "base_uri": "https://localhost:8080/",
          "height": 267
        },
        "outputId": "150304c6-f663-4be0-ac76-41f492ddec2f"
      },
      "source": [
        "masculine_words = ['men', 'man', 'him', 'himself', 'he', 'male']\n",
        "\n",
        "print(\"Cosine Similarity: \\'Masculine\\' words\")\n",
        "multiple_appearances = {(\"\", \"\")}\n",
        "IPython.display.HTML(similar_words(masculine_words).render())"
      ],
      "execution_count": null,
      "outputs": [
        {
          "output_type": "stream",
          "text": [
            "Cosine Similarity: 'Masculine' words\n"
          ],
          "name": "stdout"
        },
        {
          "output_type": "execute_result",
          "data": {
            "text/html": [
              "<style  type=\"text/css\" >\n",
              "    #T_6874a738_7465_11ea_8a76_0242ac1c0002row0_col0 {\n",
              "            color:  black;\n",
              "        }    #T_6874a738_7465_11ea_8a76_0242ac1c0002row0_col1 {\n",
              "            color:  black;\n",
              "        }    #T_6874a738_7465_11ea_8a76_0242ac1c0002row0_col2 {\n",
              "            color:  black;\n",
              "        }    #T_6874a738_7465_11ea_8a76_0242ac1c0002row0_col3 {\n",
              "            color:  pink;\n",
              "        }    #T_6874a738_7465_11ea_8a76_0242ac1c0002row0_col4 {\n",
              "            color:  black;\n",
              "        }    #T_6874a738_7465_11ea_8a76_0242ac1c0002row0_col5 {\n",
              "            color:  black;\n",
              "        }    #T_6874a738_7465_11ea_8a76_0242ac1c0002row1_col0 {\n",
              "            color:  black;\n",
              "        }    #T_6874a738_7465_11ea_8a76_0242ac1c0002row1_col1 {\n",
              "            color:  black;\n",
              "        }    #T_6874a738_7465_11ea_8a76_0242ac1c0002row1_col2 {\n",
              "            color:  orange;\n",
              "        }    #T_6874a738_7465_11ea_8a76_0242ac1c0002row1_col3 {\n",
              "            color:  black;\n",
              "        }    #T_6874a738_7465_11ea_8a76_0242ac1c0002row1_col4 {\n",
              "            color:  black;\n",
              "        }    #T_6874a738_7465_11ea_8a76_0242ac1c0002row1_col5 {\n",
              "            color:  red;\n",
              "        }    #T_6874a738_7465_11ea_8a76_0242ac1c0002row2_col0 {\n",
              "            color:  black;\n",
              "        }    #T_6874a738_7465_11ea_8a76_0242ac1c0002row2_col1 {\n",
              "            color:  black;\n",
              "        }    #T_6874a738_7465_11ea_8a76_0242ac1c0002row2_col2 {\n",
              "            color:  pink;\n",
              "        }    #T_6874a738_7465_11ea_8a76_0242ac1c0002row2_col3 {\n",
              "            color:  black;\n",
              "        }    #T_6874a738_7465_11ea_8a76_0242ac1c0002row2_col4 {\n",
              "            color:  black;\n",
              "        }    #T_6874a738_7465_11ea_8a76_0242ac1c0002row2_col5 {\n",
              "            color:  black;\n",
              "        }    #T_6874a738_7465_11ea_8a76_0242ac1c0002row3_col0 {\n",
              "            color:  black;\n",
              "        }    #T_6874a738_7465_11ea_8a76_0242ac1c0002row3_col1 {\n",
              "            color:  black;\n",
              "        }    #T_6874a738_7465_11ea_8a76_0242ac1c0002row3_col2 {\n",
              "            color:  black;\n",
              "        }    #T_6874a738_7465_11ea_8a76_0242ac1c0002row3_col3 {\n",
              "            color:  green;\n",
              "        }    #T_6874a738_7465_11ea_8a76_0242ac1c0002row3_col4 {\n",
              "            color:  black;\n",
              "        }    #T_6874a738_7465_11ea_8a76_0242ac1c0002row3_col5 {\n",
              "            color:  black;\n",
              "        }    #T_6874a738_7465_11ea_8a76_0242ac1c0002row4_col0 {\n",
              "            color:  black;\n",
              "        }    #T_6874a738_7465_11ea_8a76_0242ac1c0002row4_col1 {\n",
              "            color:  black;\n",
              "        }    #T_6874a738_7465_11ea_8a76_0242ac1c0002row4_col2 {\n",
              "            color:  black;\n",
              "        }    #T_6874a738_7465_11ea_8a76_0242ac1c0002row4_col3 {\n",
              "            color:  black;\n",
              "        }    #T_6874a738_7465_11ea_8a76_0242ac1c0002row4_col4 {\n",
              "            color:  black;\n",
              "        }    #T_6874a738_7465_11ea_8a76_0242ac1c0002row4_col5 {\n",
              "            color:  black;\n",
              "        }    #T_6874a738_7465_11ea_8a76_0242ac1c0002row5_col0 {\n",
              "            color:  black;\n",
              "        }    #T_6874a738_7465_11ea_8a76_0242ac1c0002row5_col1 {\n",
              "            color:  black;\n",
              "        }    #T_6874a738_7465_11ea_8a76_0242ac1c0002row5_col2 {\n",
              "            color:  black;\n",
              "        }    #T_6874a738_7465_11ea_8a76_0242ac1c0002row5_col3 {\n",
              "            color:  blue;\n",
              "        }    #T_6874a738_7465_11ea_8a76_0242ac1c0002row5_col4 {\n",
              "            color:  black;\n",
              "        }    #T_6874a738_7465_11ea_8a76_0242ac1c0002row5_col5 {\n",
              "            color:  black;\n",
              "        }    #T_6874a738_7465_11ea_8a76_0242ac1c0002row6_col0 {\n",
              "            color:  black;\n",
              "        }    #T_6874a738_7465_11ea_8a76_0242ac1c0002row6_col1 {\n",
              "            color:  black;\n",
              "        }    #T_6874a738_7465_11ea_8a76_0242ac1c0002row6_col2 {\n",
              "            color:  green;\n",
              "        }    #T_6874a738_7465_11ea_8a76_0242ac1c0002row6_col3 {\n",
              "            color:  black;\n",
              "        }    #T_6874a738_7465_11ea_8a76_0242ac1c0002row6_col4 {\n",
              "            color:  black;\n",
              "        }    #T_6874a738_7465_11ea_8a76_0242ac1c0002row6_col5 {\n",
              "            color:  blue;\n",
              "        }    #T_6874a738_7465_11ea_8a76_0242ac1c0002row7_col0 {\n",
              "            color:  black;\n",
              "        }    #T_6874a738_7465_11ea_8a76_0242ac1c0002row7_col1 {\n",
              "            color:  black;\n",
              "        }    #T_6874a738_7465_11ea_8a76_0242ac1c0002row7_col2 {\n",
              "            color:  red;\n",
              "        }    #T_6874a738_7465_11ea_8a76_0242ac1c0002row7_col3 {\n",
              "            color:  black;\n",
              "        }    #T_6874a738_7465_11ea_8a76_0242ac1c0002row7_col4 {\n",
              "            color:  orange;\n",
              "        }    #T_6874a738_7465_11ea_8a76_0242ac1c0002row7_col5 {\n",
              "            color:  black;\n",
              "        }    #T_6874a738_7465_11ea_8a76_0242ac1c0002row8_col0 {\n",
              "            color:  black;\n",
              "        }    #T_6874a738_7465_11ea_8a76_0242ac1c0002row8_col1 {\n",
              "            color:  black;\n",
              "        }    #T_6874a738_7465_11ea_8a76_0242ac1c0002row8_col2 {\n",
              "            color:  black;\n",
              "        }    #T_6874a738_7465_11ea_8a76_0242ac1c0002row8_col3 {\n",
              "            color:  black;\n",
              "        }    #T_6874a738_7465_11ea_8a76_0242ac1c0002row8_col4 {\n",
              "            color:  black;\n",
              "        }    #T_6874a738_7465_11ea_8a76_0242ac1c0002row8_col5 {\n",
              "            color:  black;\n",
              "        }    #T_6874a738_7465_11ea_8a76_0242ac1c0002row9_col0 {\n",
              "            color:  black;\n",
              "        }    #T_6874a738_7465_11ea_8a76_0242ac1c0002row9_col1 {\n",
              "            color:  black;\n",
              "        }    #T_6874a738_7465_11ea_8a76_0242ac1c0002row9_col2 {\n",
              "            color:  black;\n",
              "        }    #T_6874a738_7465_11ea_8a76_0242ac1c0002row9_col3 {\n",
              "            color:  black;\n",
              "        }    #T_6874a738_7465_11ea_8a76_0242ac1c0002row9_col4 {\n",
              "            color:  black;\n",
              "        }    #T_6874a738_7465_11ea_8a76_0242ac1c0002row9_col5 {\n",
              "            color:  black;\n",
              "        }</style><table id=\"T_6874a738_7465_11ea_8a76_0242ac1c0002\" ><thead>    <tr>        <th class=\"blank level0\" ></th>        <th class=\"col_heading level0 col0\" >men</th>        <th class=\"col_heading level0 col1\" >man</th>        <th class=\"col_heading level0 col2\" >him</th>        <th class=\"col_heading level0 col3\" >himself</th>        <th class=\"col_heading level0 col4\" >he</th>        <th class=\"col_heading level0 col5\" >male</th>    </tr></thead><tbody>\n",
              "                <tr>\n",
              "                        <th id=\"T_6874a738_7465_11ea_8a76_0242ac1c0002level0_row0\" class=\"row_heading level0 row0\" >0</th>\n",
              "                        <td id=\"T_6874a738_7465_11ea_8a76_0242ac1c0002row0_col0\" class=\"data row0 col0\" >men</td>\n",
              "                        <td id=\"T_6874a738_7465_11ea_8a76_0242ac1c0002row0_col1\" class=\"data row0 col1\" >man</td>\n",
              "                        <td id=\"T_6874a738_7465_11ea_8a76_0242ac1c0002row0_col2\" class=\"data row0 col2\" >him</td>\n",
              "                        <td id=\"T_6874a738_7465_11ea_8a76_0242ac1c0002row0_col3\" class=\"data row0 col3\" >himself</td>\n",
              "                        <td id=\"T_6874a738_7465_11ea_8a76_0242ac1c0002row0_col4\" class=\"data row0 col4\" >he</td>\n",
              "                        <td id=\"T_6874a738_7465_11ea_8a76_0242ac1c0002row0_col5\" class=\"data row0 col5\" >male</td>\n",
              "            </tr>\n",
              "            <tr>\n",
              "                        <th id=\"T_6874a738_7465_11ea_8a76_0242ac1c0002level0_row1\" class=\"row_heading level0 row1\" >1</th>\n",
              "                        <td id=\"T_6874a738_7465_11ea_8a76_0242ac1c0002row1_col0\" class=\"data row1 col0\" >kidnapping</td>\n",
              "                        <td id=\"T_6874a738_7465_11ea_8a76_0242ac1c0002row1_col1\" class=\"data row1 col1\" >prosecutor</td>\n",
              "                        <td id=\"T_6874a738_7465_11ea_8a76_0242ac1c0002row1_col2\" class=\"data row1 col2\" >her</td>\n",
              "                        <td id=\"T_6874a738_7465_11ea_8a76_0242ac1c0002row1_col3\" class=\"data row1 col3\" >being</td>\n",
              "                        <td id=\"T_6874a738_7465_11ea_8a76_0242ac1c0002row1_col4\" class=\"data row1 col4\" >she</td>\n",
              "                        <td id=\"T_6874a738_7465_11ea_8a76_0242ac1c0002row1_col5\" class=\"data row1 col5\" >debtor</td>\n",
              "            </tr>\n",
              "            <tr>\n",
              "                        <th id=\"T_6874a738_7465_11ea_8a76_0242ac1c0002level0_row2\" class=\"row_heading level0 row2\" >2</th>\n",
              "                        <td id=\"T_6874a738_7465_11ea_8a76_0242ac1c0002row2_col0\" class=\"data row2 col0\" >timeconsuming</td>\n",
              "                        <td id=\"T_6874a738_7465_11ea_8a76_0242ac1c0002row2_col1\" class=\"data row2 col1\" >unlawful</td>\n",
              "                        <td id=\"T_6874a738_7465_11ea_8a76_0242ac1c0002row2_col2\" class=\"data row2 col2\" >himself</td>\n",
              "                        <td id=\"T_6874a738_7465_11ea_8a76_0242ac1c0002row2_col3\" class=\"data row2 col3\" >jurors</td>\n",
              "                        <td id=\"T_6874a738_7465_11ea_8a76_0242ac1c0002row2_col4\" class=\"data row2 col4\" >wound</td>\n",
              "                        <td id=\"T_6874a738_7465_11ea_8a76_0242ac1c0002row2_col5\" class=\"data row2 col5\" >amendmentprotected</td>\n",
              "            </tr>\n",
              "            <tr>\n",
              "                        <th id=\"T_6874a738_7465_11ea_8a76_0242ac1c0002level0_row3\" class=\"row_heading level0 row3\" >3</th>\n",
              "                        <td id=\"T_6874a738_7465_11ea_8a76_0242ac1c0002row3_col0\" class=\"data row3 col0\" >battles</td>\n",
              "                        <td id=\"T_6874a738_7465_11ea_8a76_0242ac1c0002row3_col1\" class=\"data row3 col1\" >score</td>\n",
              "                        <td id=\"T_6874a738_7465_11ea_8a76_0242ac1c0002row3_col2\" class=\"data row3 col2\" >them</td>\n",
              "                        <td id=\"T_6874a738_7465_11ea_8a76_0242ac1c0002row3_col3\" class=\"data row3 col3\" >officers</td>\n",
              "                        <td id=\"T_6874a738_7465_11ea_8a76_0242ac1c0002row3_col4\" class=\"data row3 col4\" >fact</td>\n",
              "                        <td id=\"T_6874a738_7465_11ea_8a76_0242ac1c0002row3_col5\" class=\"data row3 col5\" >practicability</td>\n",
              "            </tr>\n",
              "            <tr>\n",
              "                        <th id=\"T_6874a738_7465_11ea_8a76_0242ac1c0002level0_row4\" class=\"row_heading level0 row4\" >4</th>\n",
              "                        <td id=\"T_6874a738_7465_11ea_8a76_0242ac1c0002row4_col0\" class=\"data row4 col0\" >yes</td>\n",
              "                        <td id=\"T_6874a738_7465_11ea_8a76_0242ac1c0002row4_col1\" class=\"data row4 col1\" >once</td>\n",
              "                        <td id=\"T_6874a738_7465_11ea_8a76_0242ac1c0002row4_col2\" class=\"data row4 col2\" >arrest</td>\n",
              "                        <td id=\"T_6874a738_7465_11ea_8a76_0242ac1c0002row4_col3\" class=\"data row4 col3\" >paid</td>\n",
              "                        <td id=\"T_6874a738_7465_11ea_8a76_0242ac1c0002row4_col4\" class=\"data row4 col4\" >banks</td>\n",
              "                        <td id=\"T_6874a738_7465_11ea_8a76_0242ac1c0002row4_col5\" class=\"data row4 col5\" >secede</td>\n",
              "            </tr>\n",
              "            <tr>\n",
              "                        <th id=\"T_6874a738_7465_11ea_8a76_0242ac1c0002level0_row5\" class=\"row_heading level0 row5\" >5</th>\n",
              "                        <td id=\"T_6874a738_7465_11ea_8a76_0242ac1c0002row5_col0\" class=\"data row5 col0\" >butte</td>\n",
              "                        <td id=\"T_6874a738_7465_11ea_8a76_0242ac1c0002row5_col1\" class=\"data row5 col1\" >narrowly</td>\n",
              "                        <td id=\"T_6874a738_7465_11ea_8a76_0242ac1c0002row5_col2\" class=\"data row5 col2\" >seizing</td>\n",
              "                        <td id=\"T_6874a738_7465_11ea_8a76_0242ac1c0002row5_col3\" class=\"data row5 col3\" >creditors</td>\n",
              "                        <td id=\"T_6874a738_7465_11ea_8a76_0242ac1c0002row5_col4\" class=\"data row5 col4\" >acquit</td>\n",
              "                        <td id=\"T_6874a738_7465_11ea_8a76_0242ac1c0002row5_col5\" class=\"data row5 col5\" >impacts</td>\n",
              "            </tr>\n",
              "            <tr>\n",
              "                        <th id=\"T_6874a738_7465_11ea_8a76_0242ac1c0002level0_row6\" class=\"row_heading level0 row6\" >6</th>\n",
              "                        <td id=\"T_6874a738_7465_11ea_8a76_0242ac1c0002row6_col0\" class=\"data row6 col0\" >modifications</td>\n",
              "                        <td id=\"T_6874a738_7465_11ea_8a76_0242ac1c0002row6_col1\" class=\"data row6 col1\" >telling</td>\n",
              "                        <td id=\"T_6874a738_7465_11ea_8a76_0242ac1c0002row6_col2\" class=\"data row6 col2\" >officers</td>\n",
              "                        <td id=\"T_6874a738_7465_11ea_8a76_0242ac1c0002row6_col3\" class=\"data row6 col3\" >attorneys</td>\n",
              "                        <td id=\"T_6874a738_7465_11ea_8a76_0242ac1c0002row6_col4\" class=\"data row6 col4\" >twice</td>\n",
              "                        <td id=\"T_6874a738_7465_11ea_8a76_0242ac1c0002row6_col5\" class=\"data row6 col5\" >creditors</td>\n",
              "            </tr>\n",
              "            <tr>\n",
              "                        <th id=\"T_6874a738_7465_11ea_8a76_0242ac1c0002level0_row7\" class=\"row_heading level0 row7\" >7</th>\n",
              "                        <td id=\"T_6874a738_7465_11ea_8a76_0242ac1c0002row7_col0\" class=\"data row7 col0\" >whitehead</td>\n",
              "                        <td id=\"T_6874a738_7465_11ea_8a76_0242ac1c0002row7_col1\" class=\"data row7 col1\" >accompanied</td>\n",
              "                        <td id=\"T_6874a738_7465_11ea_8a76_0242ac1c0002row7_col2\" class=\"data row7 col2\" >debtor</td>\n",
              "                        <td id=\"T_6874a738_7465_11ea_8a76_0242ac1c0002row7_col3\" class=\"data row7 col3\" >compensation</td>\n",
              "                        <td id=\"T_6874a738_7465_11ea_8a76_0242ac1c0002row7_col4\" class=\"data row7 col4\" >her</td>\n",
              "                        <td id=\"T_6874a738_7465_11ea_8a76_0242ac1c0002row7_col5\" class=\"data row7 col5\" >isolate</td>\n",
              "            </tr>\n",
              "            <tr>\n",
              "                        <th id=\"T_6874a738_7465_11ea_8a76_0242ac1c0002level0_row8\" class=\"row_heading level0 row8\" >8</th>\n",
              "                        <td id=\"T_6874a738_7465_11ea_8a76_0242ac1c0002row8_col0\" class=\"data row8 col0\" >businesses</td>\n",
              "                        <td id=\"T_6874a738_7465_11ea_8a76_0242ac1c0002row8_col1\" class=\"data row8 col1\" >going</td>\n",
              "                        <td id=\"T_6874a738_7465_11ea_8a76_0242ac1c0002row8_col2\" class=\"data row8 col2\" >lied</td>\n",
              "                        <td id=\"T_6874a738_7465_11ea_8a76_0242ac1c0002row8_col3\" class=\"data row8 col3\" >registered</td>\n",
              "                        <td id=\"T_6874a738_7465_11ea_8a76_0242ac1c0002row8_col4\" class=\"data row8 col4\" >knew</td>\n",
              "                        <td id=\"T_6874a738_7465_11ea_8a76_0242ac1c0002row8_col5\" class=\"data row8 col5\" >claim</td>\n",
              "            </tr>\n",
              "            <tr>\n",
              "                        <th id=\"T_6874a738_7465_11ea_8a76_0242ac1c0002level0_row9\" class=\"row_heading level0 row9\" >9</th>\n",
              "                        <td id=\"T_6874a738_7465_11ea_8a76_0242ac1c0002row9_col0\" class=\"data row9 col0\" >successive</td>\n",
              "                        <td id=\"T_6874a738_7465_11ea_8a76_0242ac1c0002row9_col1\" class=\"data row9 col1\" >house</td>\n",
              "                        <td id=\"T_6874a738_7465_11ea_8a76_0242ac1c0002row9_col2\" class=\"data row9 col2\" >fees</td>\n",
              "                        <td id=\"T_6874a738_7465_11ea_8a76_0242ac1c0002row9_col3\" class=\"data row9 col3\" >documents</td>\n",
              "                        <td id=\"T_6874a738_7465_11ea_8a76_0242ac1c0002row9_col4\" class=\"data row9 col4\" >disagree</td>\n",
              "                        <td id=\"T_6874a738_7465_11ea_8a76_0242ac1c0002row9_col5\" class=\"data row9 col5\" >promulgate</td>\n",
              "            </tr>\n",
              "    </tbody></table>"
            ],
            "text/plain": [
              "<IPython.core.display.HTML object>"
            ]
          },
          "metadata": {
            "tags": []
          },
          "execution_count": 6
        }
      ]
    },
    {
      "cell_type": "markdown",
      "metadata": {
        "id": "FxZ0h-tnH7k6"
      },
      "source": [
        "### Create femininity vector\n",
        "Average the word embeddings of the feminine words to create femininty vector. "
      ]
    },
    {
      "cell_type": "code",
      "metadata": {
        "id": "TBZGhb4WGdek",
        "colab": {
          "base_uri": "https://localhost:8080/",
          "height": 393
        },
        "outputId": "245b5533-7e35-42d5-fc65-bd4020354fe4"
      },
      "source": [
        "def average_vector(word_list):\n",
        "  vector = np.zeros(model[word_list[0]].shape)\n",
        "  print(model)\n",
        "  for word in word_list:\n",
        "    vector += model[word]\n",
        "  vector /= len(word_list)\n",
        "  return vector\n",
        "\n",
        "masculinity_vector = average_vector(masculine_words)\n",
        "femininity_vector = average_vector(feminine_words)\n",
        "\n",
        "data = model.most_similar(positive=[femininity_vector], topn=10)\n",
        "pd.DataFrame(data, columns=[\"Top feminine words\", \"Cosine similarity\"])"
      ],
      "execution_count": null,
      "outputs": [
        {
          "output_type": "stream",
          "text": [
            "Word2Vec(vocab=25538, size=200, alpha=0.025)\n",
            "Word2Vec(vocab=25538, size=200, alpha=0.025)\n"
          ],
          "name": "stdout"
        },
        {
          "output_type": "execute_result",
          "data": {
            "text/html": [
              "<div>\n",
              "<style scoped>\n",
              "    .dataframe tbody tr th:only-of-type {\n",
              "        vertical-align: middle;\n",
              "    }\n",
              "\n",
              "    .dataframe tbody tr th {\n",
              "        vertical-align: top;\n",
              "    }\n",
              "\n",
              "    .dataframe thead th {\n",
              "        text-align: right;\n",
              "    }\n",
              "</style>\n",
              "<table border=\"1\" class=\"dataframe\">\n",
              "  <thead>\n",
              "    <tr style=\"text-align: right;\">\n",
              "      <th></th>\n",
              "      <th>Top feminine words</th>\n",
              "      <th>Cosine similarity</th>\n",
              "    </tr>\n",
              "  </thead>\n",
              "  <tbody>\n",
              "    <tr>\n",
              "      <th>0</th>\n",
              "      <td>her</td>\n",
              "      <td>0.971501</td>\n",
              "    </tr>\n",
              "    <tr>\n",
              "      <th>1</th>\n",
              "      <td>retrieved</td>\n",
              "      <td>0.968278</td>\n",
              "    </tr>\n",
              "    <tr>\n",
              "      <th>2</th>\n",
              "      <td>banning</td>\n",
              "      <td>0.960604</td>\n",
              "    </tr>\n",
              "    <tr>\n",
              "      <th>3</th>\n",
              "      <td>hanson</td>\n",
              "      <td>0.956296</td>\n",
              "    </tr>\n",
              "    <tr>\n",
              "      <th>4</th>\n",
              "      <td>she</td>\n",
              "      <td>0.950203</td>\n",
              "    </tr>\n",
              "    <tr>\n",
              "      <th>5</th>\n",
              "      <td>alvarado</td>\n",
              "      <td>0.947227</td>\n",
              "    </tr>\n",
              "    <tr>\n",
              "      <th>6</th>\n",
              "      <td>sabri</td>\n",
              "      <td>0.940161</td>\n",
              "    </tr>\n",
              "    <tr>\n",
              "      <th>7</th>\n",
              "      <td>lawyer</td>\n",
              "      <td>0.938414</td>\n",
              "    </tr>\n",
              "    <tr>\n",
              "      <th>8</th>\n",
              "      <td>expenditure</td>\n",
              "      <td>0.935600</td>\n",
              "    </tr>\n",
              "    <tr>\n",
              "      <th>9</th>\n",
              "      <td>premises,</td>\n",
              "      <td>0.934099</td>\n",
              "    </tr>\n",
              "  </tbody>\n",
              "</table>\n",
              "</div>"
            ],
            "text/plain": [
              "  Top feminine words  Cosine similarity\n",
              "0                her           0.971501\n",
              "1          retrieved           0.968278\n",
              "2            banning           0.960604\n",
              "3             hanson           0.956296\n",
              "4                she           0.950203\n",
              "5           alvarado           0.947227\n",
              "6              sabri           0.940161\n",
              "7             lawyer           0.938414\n",
              "8        expenditure           0.935600\n",
              "9          premises,           0.934099"
            ]
          },
          "metadata": {
            "tags": []
          },
          "execution_count": 9
        }
      ]
    },
    {
      "cell_type": "code",
      "metadata": {
        "id": "NmorZX68x7CT",
        "colab": {
          "base_uri": "https://localhost:8080/",
          "height": 359
        },
        "outputId": "ed13aadb-66a4-4a85-da19-cd57d284f495"
      },
      "source": [
        "data = model.most_similar(positive=[masculinity_vector], topn=10)\n",
        "pd.DataFrame(data, columns=[\"Top masculine words\", \"Cosine similarity\"])\n"
      ],
      "execution_count": null,
      "outputs": [
        {
          "output_type": "execute_result",
          "data": {
            "text/html": [
              "<div>\n",
              "<style scoped>\n",
              "    .dataframe tbody tr th:only-of-type {\n",
              "        vertical-align: middle;\n",
              "    }\n",
              "\n",
              "    .dataframe tbody tr th {\n",
              "        vertical-align: top;\n",
              "    }\n",
              "\n",
              "    .dataframe thead th {\n",
              "        text-align: right;\n",
              "    }\n",
              "</style>\n",
              "<table border=\"1\" class=\"dataframe\">\n",
              "  <thead>\n",
              "    <tr style=\"text-align: right;\">\n",
              "      <th></th>\n",
              "      <th>Top masculine words</th>\n",
              "      <th>Cosine similarity</th>\n",
              "    </tr>\n",
              "  </thead>\n",
              "  <tbody>\n",
              "    <tr>\n",
              "      <th>0</th>\n",
              "      <td>her</td>\n",
              "      <td>0.945081</td>\n",
              "    </tr>\n",
              "    <tr>\n",
              "      <th>1</th>\n",
              "      <td>she</td>\n",
              "      <td>0.934577</td>\n",
              "    </tr>\n",
              "    <tr>\n",
              "      <th>2</th>\n",
              "      <td>he</td>\n",
              "      <td>0.930813</td>\n",
              "    </tr>\n",
              "    <tr>\n",
              "      <th>3</th>\n",
              "      <td>him</td>\n",
              "      <td>0.930660</td>\n",
              "    </tr>\n",
              "    <tr>\n",
              "      <th>4</th>\n",
              "      <td>bockmiller</td>\n",
              "      <td>0.923747</td>\n",
              "    </tr>\n",
              "    <tr>\n",
              "      <th>5</th>\n",
              "      <td>banning</td>\n",
              "      <td>0.919008</td>\n",
              "    </tr>\n",
              "    <tr>\n",
              "      <th>6</th>\n",
              "      <td>retrieved</td>\n",
              "      <td>0.918256</td>\n",
              "    </tr>\n",
              "    <tr>\n",
              "      <th>7</th>\n",
              "      <td>officers</td>\n",
              "      <td>0.908649</td>\n",
              "    </tr>\n",
              "    <tr>\n",
              "      <th>8</th>\n",
              "      <td>testimony</td>\n",
              "      <td>0.906431</td>\n",
              "    </tr>\n",
              "    <tr>\n",
              "      <th>9</th>\n",
              "      <td>farr</td>\n",
              "      <td>0.905855</td>\n",
              "    </tr>\n",
              "  </tbody>\n",
              "</table>\n",
              "</div>"
            ],
            "text/plain": [
              "  Top masculine words  Cosine similarity\n",
              "0                 her           0.945081\n",
              "1                 she           0.934577\n",
              "2                  he           0.930813\n",
              "3                 him           0.930660\n",
              "4          bockmiller           0.923747\n",
              "5             banning           0.919008\n",
              "6           retrieved           0.918256\n",
              "7            officers           0.908649\n",
              "8           testimony           0.906431\n",
              "9                farr           0.905855"
            ]
          },
          "metadata": {
            "tags": []
          },
          "execution_count": 121
        }
      ]
    },
    {
      "cell_type": "code",
      "metadata": {
        "id": "vyk94rq8HfvW",
        "colab": {
          "base_uri": "https://localhost:8080/",
          "height": 250
        },
        "outputId": "baaa6328-3c25-490a-c774-835b892670c8"
      },
      "source": [
        "multiple_appearances = {(\"\", \"\")}\n",
        "fem_vecs = [model[x] for x in feminine_words]\n",
        "fem_vecs.append(femininity_vector)\n",
        "feminine_words.append(\"fem_avg\")\n",
        "IPython.display.HTML(similar_vec(fem_vecs, feminine_words).render())"
      ],
      "execution_count": null,
      "outputs": [
        {
          "output_type": "execute_result",
          "data": {
            "text/html": [
              "<style  type=\"text/css\" >\n",
              "    #T_505ba806_61c1_11ea_97e0_0242ac1c0002row0_col0 {\n",
              "            color:  black;\n",
              "        }    #T_505ba806_61c1_11ea_97e0_0242ac1c0002row0_col1 {\n",
              "            color:  black;\n",
              "        }    #T_505ba806_61c1_11ea_97e0_0242ac1c0002row0_col2 {\n",
              "            color:  red;\n",
              "        }    #T_505ba806_61c1_11ea_97e0_0242ac1c0002row0_col3 {\n",
              "            color:  black;\n",
              "        }    #T_505ba806_61c1_11ea_97e0_0242ac1c0002row0_col4 {\n",
              "            color:  green;\n",
              "        }    #T_505ba806_61c1_11ea_97e0_0242ac1c0002row0_col5 {\n",
              "            color:  black;\n",
              "        }    #T_505ba806_61c1_11ea_97e0_0242ac1c0002row0_col6 {\n",
              "            color:  red;\n",
              "        }    #T_505ba806_61c1_11ea_97e0_0242ac1c0002row1_col0 {\n",
              "            color:  black;\n",
              "        }    #T_505ba806_61c1_11ea_97e0_0242ac1c0002row1_col1 {\n",
              "            color:  black;\n",
              "        }    #T_505ba806_61c1_11ea_97e0_0242ac1c0002row1_col2 {\n",
              "            color:  orange;\n",
              "        }    #T_505ba806_61c1_11ea_97e0_0242ac1c0002row1_col3 {\n",
              "            color:  black;\n",
              "        }    #T_505ba806_61c1_11ea_97e0_0242ac1c0002row1_col4 {\n",
              "            color:  orange;\n",
              "        }    #T_505ba806_61c1_11ea_97e0_0242ac1c0002row1_col5 {\n",
              "            color:  black;\n",
              "        }    #T_505ba806_61c1_11ea_97e0_0242ac1c0002row1_col6 {\n",
              "            color:  orange;\n",
              "        }    #T_505ba806_61c1_11ea_97e0_0242ac1c0002row2_col0 {\n",
              "            color:  black;\n",
              "        }    #T_505ba806_61c1_11ea_97e0_0242ac1c0002row2_col1 {\n",
              "            color:  black;\n",
              "        }    #T_505ba806_61c1_11ea_97e0_0242ac1c0002row2_col2 {\n",
              "            color:  black;\n",
              "        }    #T_505ba806_61c1_11ea_97e0_0242ac1c0002row2_col3 {\n",
              "            color:  black;\n",
              "        }    #T_505ba806_61c1_11ea_97e0_0242ac1c0002row2_col4 {\n",
              "            color:  purple;\n",
              "        }    #T_505ba806_61c1_11ea_97e0_0242ac1c0002row2_col5 {\n",
              "            color:  black;\n",
              "        }    #T_505ba806_61c1_11ea_97e0_0242ac1c0002row2_col6 {\n",
              "            color:  purple;\n",
              "        }    #T_505ba806_61c1_11ea_97e0_0242ac1c0002row3_col0 {\n",
              "            color:  black;\n",
              "        }    #T_505ba806_61c1_11ea_97e0_0242ac1c0002row3_col1 {\n",
              "            color:  black;\n",
              "        }    #T_505ba806_61c1_11ea_97e0_0242ac1c0002row3_col2 {\n",
              "            color:  pink;\n",
              "        }    #T_505ba806_61c1_11ea_97e0_0242ac1c0002row3_col3 {\n",
              "            color:  black;\n",
              "        }    #T_505ba806_61c1_11ea_97e0_0242ac1c0002row3_col4 {\n",
              "            color:  black;\n",
              "        }    #T_505ba806_61c1_11ea_97e0_0242ac1c0002row3_col5 {\n",
              "            color:  black;\n",
              "        }    #T_505ba806_61c1_11ea_97e0_0242ac1c0002row3_col6 {\n",
              "            color:  pink;\n",
              "        }    #T_505ba806_61c1_11ea_97e0_0242ac1c0002row4_col0 {\n",
              "            color:  black;\n",
              "        }    #T_505ba806_61c1_11ea_97e0_0242ac1c0002row4_col1 {\n",
              "            color:  green;\n",
              "        }    #T_505ba806_61c1_11ea_97e0_0242ac1c0002row4_col2 {\n",
              "            color:  black;\n",
              "        }    #T_505ba806_61c1_11ea_97e0_0242ac1c0002row4_col3 {\n",
              "            color:  black;\n",
              "        }    #T_505ba806_61c1_11ea_97e0_0242ac1c0002row4_col4 {\n",
              "            color:  black;\n",
              "        }    #T_505ba806_61c1_11ea_97e0_0242ac1c0002row4_col5 {\n",
              "            color:  black;\n",
              "        }    #T_505ba806_61c1_11ea_97e0_0242ac1c0002row4_col6 {\n",
              "            color:  green;\n",
              "        }    #T_505ba806_61c1_11ea_97e0_0242ac1c0002row5_col0 {\n",
              "            color:  black;\n",
              "        }    #T_505ba806_61c1_11ea_97e0_0242ac1c0002row5_col1 {\n",
              "            color:  black;\n",
              "        }    #T_505ba806_61c1_11ea_97e0_0242ac1c0002row5_col2 {\n",
              "            color:  black;\n",
              "        }    #T_505ba806_61c1_11ea_97e0_0242ac1c0002row5_col3 {\n",
              "            color:  black;\n",
              "        }    #T_505ba806_61c1_11ea_97e0_0242ac1c0002row5_col4 {\n",
              "            color:  black;\n",
              "        }    #T_505ba806_61c1_11ea_97e0_0242ac1c0002row5_col5 {\n",
              "            color:  black;\n",
              "        }    #T_505ba806_61c1_11ea_97e0_0242ac1c0002row5_col6 {\n",
              "            color:  orange;\n",
              "        }    #T_505ba806_61c1_11ea_97e0_0242ac1c0002row6_col0 {\n",
              "            color:  black;\n",
              "        }    #T_505ba806_61c1_11ea_97e0_0242ac1c0002row6_col1 {\n",
              "            color:  black;\n",
              "        }    #T_505ba806_61c1_11ea_97e0_0242ac1c0002row6_col2 {\n",
              "            color:  black;\n",
              "        }    #T_505ba806_61c1_11ea_97e0_0242ac1c0002row6_col3 {\n",
              "            color:  black;\n",
              "        }    #T_505ba806_61c1_11ea_97e0_0242ac1c0002row6_col4 {\n",
              "            color:  green;\n",
              "        }    #T_505ba806_61c1_11ea_97e0_0242ac1c0002row6_col5 {\n",
              "            color:  black;\n",
              "        }    #T_505ba806_61c1_11ea_97e0_0242ac1c0002row6_col6 {\n",
              "            color:  black;\n",
              "        }    #T_505ba806_61c1_11ea_97e0_0242ac1c0002row7_col0 {\n",
              "            color:  black;\n",
              "        }    #T_505ba806_61c1_11ea_97e0_0242ac1c0002row7_col1 {\n",
              "            color:  black;\n",
              "        }    #T_505ba806_61c1_11ea_97e0_0242ac1c0002row7_col2 {\n",
              "            color:  purple;\n",
              "        }    #T_505ba806_61c1_11ea_97e0_0242ac1c0002row7_col3 {\n",
              "            color:  black;\n",
              "        }    #T_505ba806_61c1_11ea_97e0_0242ac1c0002row7_col4 {\n",
              "            color:  black;\n",
              "        }    #T_505ba806_61c1_11ea_97e0_0242ac1c0002row7_col5 {\n",
              "            color:  black;\n",
              "        }    #T_505ba806_61c1_11ea_97e0_0242ac1c0002row7_col6 {\n",
              "            color:  green;\n",
              "        }    #T_505ba806_61c1_11ea_97e0_0242ac1c0002row8_col0 {\n",
              "            color:  black;\n",
              "        }    #T_505ba806_61c1_11ea_97e0_0242ac1c0002row8_col1 {\n",
              "            color:  black;\n",
              "        }    #T_505ba806_61c1_11ea_97e0_0242ac1c0002row8_col2 {\n",
              "            color:  black;\n",
              "        }    #T_505ba806_61c1_11ea_97e0_0242ac1c0002row8_col3 {\n",
              "            color:  black;\n",
              "        }    #T_505ba806_61c1_11ea_97e0_0242ac1c0002row8_col4 {\n",
              "            color:  orange;\n",
              "        }    #T_505ba806_61c1_11ea_97e0_0242ac1c0002row8_col5 {\n",
              "            color:  black;\n",
              "        }    #T_505ba806_61c1_11ea_97e0_0242ac1c0002row8_col6 {\n",
              "            color:  black;\n",
              "        }    #T_505ba806_61c1_11ea_97e0_0242ac1c0002row9_col0 {\n",
              "            color:  black;\n",
              "        }    #T_505ba806_61c1_11ea_97e0_0242ac1c0002row9_col1 {\n",
              "            color:  black;\n",
              "        }    #T_505ba806_61c1_11ea_97e0_0242ac1c0002row9_col2 {\n",
              "            color:  black;\n",
              "        }    #T_505ba806_61c1_11ea_97e0_0242ac1c0002row9_col3 {\n",
              "            color:  black;\n",
              "        }    #T_505ba806_61c1_11ea_97e0_0242ac1c0002row9_col4 {\n",
              "            color:  black;\n",
              "        }    #T_505ba806_61c1_11ea_97e0_0242ac1c0002row9_col5 {\n",
              "            color:  black;\n",
              "        }    #T_505ba806_61c1_11ea_97e0_0242ac1c0002row9_col6 {\n",
              "            color:  black;\n",
              "        }</style><table id=\"T_505ba806_61c1_11ea_97e0_0242ac1c0002\" ><thead>    <tr>        <th class=\"blank level0\" ></th>        <th class=\"col_heading level0 col0\" >women</th>        <th class=\"col_heading level0 col1\" >woman</th>        <th class=\"col_heading level0 col2\" >her</th>        <th class=\"col_heading level0 col3\" >herself</th>        <th class=\"col_heading level0 col4\" >she</th>        <th class=\"col_heading level0 col5\" >female</th>        <th class=\"col_heading level0 col6\" >fem_avg</th>    </tr></thead><tbody>\n",
              "                <tr>\n",
              "                        <th id=\"T_505ba806_61c1_11ea_97e0_0242ac1c0002level0_row0\" class=\"row_heading level0 row0\" >0</th>\n",
              "                        <td id=\"T_505ba806_61c1_11ea_97e0_0242ac1c0002row0_col0\" class=\"data row0 col0\" >women</td>\n",
              "                        <td id=\"T_505ba806_61c1_11ea_97e0_0242ac1c0002row0_col1\" class=\"data row0 col1\" >woman</td>\n",
              "                        <td id=\"T_505ba806_61c1_11ea_97e0_0242ac1c0002row0_col2\" class=\"data row0 col2\" >her</td>\n",
              "                        <td id=\"T_505ba806_61c1_11ea_97e0_0242ac1c0002row0_col3\" class=\"data row0 col3\" >herself</td>\n",
              "                        <td id=\"T_505ba806_61c1_11ea_97e0_0242ac1c0002row0_col4\" class=\"data row0 col4\" >she</td>\n",
              "                        <td id=\"T_505ba806_61c1_11ea_97e0_0242ac1c0002row0_col5\" class=\"data row0 col5\" >female</td>\n",
              "                        <td id=\"T_505ba806_61c1_11ea_97e0_0242ac1c0002row0_col6\" class=\"data row0 col6\" >her</td>\n",
              "            </tr>\n",
              "            <tr>\n",
              "                        <th id=\"T_505ba806_61c1_11ea_97e0_0242ac1c0002level0_row1\" class=\"row_heading level0 row1\" >1</th>\n",
              "                        <td id=\"T_505ba806_61c1_11ea_97e0_0242ac1c0002row1_col0\" class=\"data row1 col0\" >standards</td>\n",
              "                        <td id=\"T_505ba806_61c1_11ea_97e0_0242ac1c0002row1_col1\" class=\"data row1 col1\" >red</td>\n",
              "                        <td id=\"T_505ba806_61c1_11ea_97e0_0242ac1c0002row1_col2\" class=\"data row1 col2\" >retrieved</td>\n",
              "                        <td id=\"T_505ba806_61c1_11ea_97e0_0242ac1c0002row1_col3\" class=\"data row1 col3\" >retail</td>\n",
              "                        <td id=\"T_505ba806_61c1_11ea_97e0_0242ac1c0002row1_col4\" class=\"data row1 col4\" >alvarado</td>\n",
              "                        <td id=\"T_505ba806_61c1_11ea_97e0_0242ac1c0002row1_col5\" class=\"data row1 col5\" >francisco</td>\n",
              "                        <td id=\"T_505ba806_61c1_11ea_97e0_0242ac1c0002row1_col6\" class=\"data row1 col6\" >retrieved</td>\n",
              "            </tr>\n",
              "            <tr>\n",
              "                        <th id=\"T_505ba806_61c1_11ea_97e0_0242ac1c0002level0_row2\" class=\"row_heading level0 row2\" >2</th>\n",
              "                        <td id=\"T_505ba806_61c1_11ea_97e0_0242ac1c0002row2_col0\" class=\"data row2 col0\" >clergy</td>\n",
              "                        <td id=\"T_505ba806_61c1_11ea_97e0_0242ac1c0002row2_col1\" class=\"data row2 col1\" >pastoral</td>\n",
              "                        <td id=\"T_505ba806_61c1_11ea_97e0_0242ac1c0002row2_col2\" class=\"data row2 col2\" >him</td>\n",
              "                        <td id=\"T_505ba806_61c1_11ea_97e0_0242ac1c0002row2_col3\" class=\"data row2 col3\" >davis</td>\n",
              "                        <td id=\"T_505ba806_61c1_11ea_97e0_0242ac1c0002row2_col4\" class=\"data row2 col4\" >banning</td>\n",
              "                        <td id=\"T_505ba806_61c1_11ea_97e0_0242ac1c0002row2_col5\" class=\"data row2 col5\" >gifted</td>\n",
              "                        <td id=\"T_505ba806_61c1_11ea_97e0_0242ac1c0002row2_col6\" class=\"data row2 col6\" >banning</td>\n",
              "            </tr>\n",
              "            <tr>\n",
              "                        <th id=\"T_505ba806_61c1_11ea_97e0_0242ac1c0002level0_row3\" class=\"row_heading level0 row3\" >3</th>\n",
              "                        <td id=\"T_505ba806_61c1_11ea_97e0_0242ac1c0002row3_col0\" class=\"data row3 col0\" >contracts</td>\n",
              "                        <td id=\"T_505ba806_61c1_11ea_97e0_0242ac1c0002row3_col1\" class=\"data row3 col1\" >private</td>\n",
              "                        <td id=\"T_505ba806_61c1_11ea_97e0_0242ac1c0002row3_col2\" class=\"data row3 col2\" >hanson</td>\n",
              "                        <td id=\"T_505ba806_61c1_11ea_97e0_0242ac1c0002row3_col3\" class=\"data row3 col3\" >purchase</td>\n",
              "                        <td id=\"T_505ba806_61c1_11ea_97e0_0242ac1c0002row3_col4\" class=\"data row3 col4\" >twice</td>\n",
              "                        <td id=\"T_505ba806_61c1_11ea_97e0_0242ac1c0002row3_col5\" class=\"data row3 col5\" >objections</td>\n",
              "                        <td id=\"T_505ba806_61c1_11ea_97e0_0242ac1c0002row3_col6\" class=\"data row3 col6\" >hanson</td>\n",
              "            </tr>\n",
              "            <tr>\n",
              "                        <th id=\"T_505ba806_61c1_11ea_97e0_0242ac1c0002level0_row4\" class=\"row_heading level0 row4\" >4</th>\n",
              "                        <td id=\"T_505ba806_61c1_11ea_97e0_0242ac1c0002row4_col0\" class=\"data row4 col0\" >war</td>\n",
              "                        <td id=\"T_505ba806_61c1_11ea_97e0_0242ac1c0002row4_col1\" class=\"data row4 col1\" >lawyer</td>\n",
              "                        <td id=\"T_505ba806_61c1_11ea_97e0_0242ac1c0002row4_col2\" class=\"data row4 col2\" >drugs</td>\n",
              "                        <td id=\"T_505ba806_61c1_11ea_97e0_0242ac1c0002row4_col3\" class=\"data row4 col3\" >inspections</td>\n",
              "                        <td id=\"T_505ba806_61c1_11ea_97e0_0242ac1c0002row4_col4\" class=\"data row4 col4\" >bockmiller</td>\n",
              "                        <td id=\"T_505ba806_61c1_11ea_97e0_0242ac1c0002row4_col5\" class=\"data row4 col5\" >cooperative</td>\n",
              "                        <td id=\"T_505ba806_61c1_11ea_97e0_0242ac1c0002row4_col6\" class=\"data row4 col6\" >she</td>\n",
              "            </tr>\n",
              "            <tr>\n",
              "                        <th id=\"T_505ba806_61c1_11ea_97e0_0242ac1c0002level0_row5\" class=\"row_heading level0 row5\" >5</th>\n",
              "                        <td id=\"T_505ba806_61c1_11ea_97e0_0242ac1c0002row5_col0\" class=\"data row5 col0\" >incumbent</td>\n",
              "                        <td id=\"T_505ba806_61c1_11ea_97e0_0242ac1c0002row5_col1\" class=\"data row5 col1\" >ibid</td>\n",
              "                        <td id=\"T_505ba806_61c1_11ea_97e0_0242ac1c0002row5_col2\" class=\"data row5 col2\" >conductedfootnote</td>\n",
              "                        <td id=\"T_505ba806_61c1_11ea_97e0_0242ac1c0002row5_col3\" class=\"data row5 col3\" >virginia</td>\n",
              "                        <td id=\"T_505ba806_61c1_11ea_97e0_0242ac1c0002row5_col4\" class=\"data row5 col4\" >claimant</td>\n",
              "                        <td id=\"T_505ba806_61c1_11ea_97e0_0242ac1c0002row5_col5\" class=\"data row5 col5\" >distributing</td>\n",
              "                        <td id=\"T_505ba806_61c1_11ea_97e0_0242ac1c0002row5_col6\" class=\"data row5 col6\" >alvarado</td>\n",
              "            </tr>\n",
              "            <tr>\n",
              "                        <th id=\"T_505ba806_61c1_11ea_97e0_0242ac1c0002level0_row6\" class=\"row_heading level0 row6\" >6</th>\n",
              "                        <td id=\"T_505ba806_61c1_11ea_97e0_0242ac1c0002row6_col0\" class=\"data row6 col0\" >christopher</td>\n",
              "                        <td id=\"T_505ba806_61c1_11ea_97e0_0242ac1c0002row6_col1\" class=\"data row6 col1\" >doubtful</td>\n",
              "                        <td id=\"T_505ba806_61c1_11ea_97e0_0242ac1c0002row6_col2\" class=\"data row6 col2\" >witnesses</td>\n",
              "                        <td id=\"T_505ba806_61c1_11ea_97e0_0242ac1c0002row6_col3\" class=\"data row6 col3\" >hand</td>\n",
              "                        <td id=\"T_505ba806_61c1_11ea_97e0_0242ac1c0002row6_col4\" class=\"data row6 col4\" >lawyer</td>\n",
              "                        <td id=\"T_505ba806_61c1_11ea_97e0_0242ac1c0002row6_col5\" class=\"data row6 col5\" >institutionalization</td>\n",
              "                        <td id=\"T_505ba806_61c1_11ea_97e0_0242ac1c0002row6_col6\" class=\"data row6 col6\" >sabri</td>\n",
              "            </tr>\n",
              "            <tr>\n",
              "                        <th id=\"T_505ba806_61c1_11ea_97e0_0242ac1c0002level0_row7\" class=\"row_heading level0 row7\" >7</th>\n",
              "                        <td id=\"T_505ba806_61c1_11ea_97e0_0242ac1c0002row7_col0\" class=\"data row7 col0\" >terminated</td>\n",
              "                        <td id=\"T_505ba806_61c1_11ea_97e0_0242ac1c0002row7_col1\" class=\"data row7 col1\" >under</td>\n",
              "                        <td id=\"T_505ba806_61c1_11ea_97e0_0242ac1c0002row7_col2\" class=\"data row7 col2\" >banning</td>\n",
              "                        <td id=\"T_505ba806_61c1_11ea_97e0_0242ac1c0002row7_col3\" class=\"data row7 col3\" >complaint</td>\n",
              "                        <td id=\"T_505ba806_61c1_11ea_97e0_0242ac1c0002row7_col4\" class=\"data row7 col4\" >he</td>\n",
              "                        <td id=\"T_505ba806_61c1_11ea_97e0_0242ac1c0002row7_col5\" class=\"data row7 col5\" >lenders</td>\n",
              "                        <td id=\"T_505ba806_61c1_11ea_97e0_0242ac1c0002row7_col6\" class=\"data row7 col6\" >lawyer</td>\n",
              "            </tr>\n",
              "            <tr>\n",
              "                        <th id=\"T_505ba806_61c1_11ea_97e0_0242ac1c0002level0_row8\" class=\"row_heading level0 row8\" >8</th>\n",
              "                        <td id=\"T_505ba806_61c1_11ea_97e0_0242ac1c0002row8_col0\" class=\"data row8 col0\" >unnecessarily</td>\n",
              "                        <td id=\"T_505ba806_61c1_11ea_97e0_0242ac1c0002row8_col1\" class=\"data row8 col1\" >familiar</td>\n",
              "                        <td id=\"T_505ba806_61c1_11ea_97e0_0242ac1c0002row8_col2\" class=\"data row8 col2\" >corrective</td>\n",
              "                        <td id=\"T_505ba806_61c1_11ea_97e0_0242ac1c0002row8_col3\" class=\"data row8 col3\" >crisisthat</td>\n",
              "                        <td id=\"T_505ba806_61c1_11ea_97e0_0242ac1c0002row8_col4\" class=\"data row8 col4\" >retrieved</td>\n",
              "                        <td id=\"T_505ba806_61c1_11ea_97e0_0242ac1c0002row8_col5\" class=\"data row8 col5\" >academically</td>\n",
              "                        <td id=\"T_505ba806_61c1_11ea_97e0_0242ac1c0002row8_col6\" class=\"data row8 col6\" >expenditure</td>\n",
              "            </tr>\n",
              "            <tr>\n",
              "                        <th id=\"T_505ba806_61c1_11ea_97e0_0242ac1c0002level0_row9\" class=\"row_heading level0 row9\" >9</th>\n",
              "                        <td id=\"T_505ba806_61c1_11ea_97e0_0242ac1c0002row9_col0\" class=\"data row9 col0\" >entering</td>\n",
              "                        <td id=\"T_505ba806_61c1_11ea_97e0_0242ac1c0002row9_col1\" class=\"data row9 col1\" >judicious</td>\n",
              "                        <td id=\"T_505ba806_61c1_11ea_97e0_0242ac1c0002row9_col2\" class=\"data row9 col2\" >anyone</td>\n",
              "                        <td id=\"T_505ba806_61c1_11ea_97e0_0242ac1c0002row9_col3\" class=\"data row9 col3\" >concern</td>\n",
              "                        <td id=\"T_505ba806_61c1_11ea_97e0_0242ac1c0002row9_col4\" class=\"data row9 col4\" >iq</td>\n",
              "                        <td id=\"T_505ba806_61c1_11ea_97e0_0242ac1c0002row9_col5\" class=\"data row9 col5\" >cerebral</td>\n",
              "                        <td id=\"T_505ba806_61c1_11ea_97e0_0242ac1c0002row9_col6\" class=\"data row9 col6\" >premises</td>\n",
              "            </tr>\n",
              "    </tbody></table>"
            ],
            "text/plain": [
              "<IPython.core.display.HTML object>"
            ]
          },
          "metadata": {
            "tags": []
          },
          "execution_count": 127
        }
      ]
    },
    {
      "cell_type": "code",
      "metadata": {
        "id": "zovKYtWBnZSV",
        "colab": {
          "base_uri": "https://localhost:8080/",
          "height": 232
        },
        "outputId": "1a2c1d2e-15a1-47a9-86e5-aafc6887e817"
      },
      "source": [
        "multiple_appearances = {(\"\", \"\")}\n",
        "mas_vecs = [model[x] for x in masculine_words]\n",
        "mas_vecs.append(femininity_vector)\n",
        "masculine_words.append(\"mas_avg\")\n",
        "IPython.display.HTML(similar_vec(mas_vecs, masculine_words).render())"
      ],
      "execution_count": null,
      "outputs": [
        {
          "output_type": "error",
          "ename": "NameError",
          "evalue": "ignored",
          "traceback": [
            "\u001b[0;31m---------------------------------------------------------------------------\u001b[0m",
            "\u001b[0;31mNameError\u001b[0m                                 Traceback (most recent call last)",
            "\u001b[0;32m<ipython-input-1-31adff49e766>\u001b[0m in \u001b[0;36m<module>\u001b[0;34m()\u001b[0m\n\u001b[1;32m      1\u001b[0m \u001b[0mmultiple_appearances\u001b[0m \u001b[0;34m=\u001b[0m \u001b[0;34m{\u001b[0m\u001b[0;34m(\u001b[0m\u001b[0;34m\"\"\u001b[0m\u001b[0;34m,\u001b[0m \u001b[0;34m\"\"\u001b[0m\u001b[0;34m)\u001b[0m\u001b[0;34m}\u001b[0m\u001b[0;34m\u001b[0m\u001b[0;34m\u001b[0m\u001b[0m\n\u001b[0;32m----> 2\u001b[0;31m \u001b[0mmas_vecs\u001b[0m \u001b[0;34m=\u001b[0m \u001b[0;34m[\u001b[0m\u001b[0mmodel\u001b[0m\u001b[0;34m[\u001b[0m\u001b[0mx\u001b[0m\u001b[0;34m]\u001b[0m \u001b[0;32mfor\u001b[0m \u001b[0mx\u001b[0m \u001b[0;32min\u001b[0m \u001b[0mmasculine_words\u001b[0m\u001b[0;34m]\u001b[0m\u001b[0;34m\u001b[0m\u001b[0;34m\u001b[0m\u001b[0m\n\u001b[0m\u001b[1;32m      3\u001b[0m \u001b[0mmas_vecs\u001b[0m\u001b[0;34m.\u001b[0m\u001b[0mappend\u001b[0m\u001b[0;34m(\u001b[0m\u001b[0mfemininity_vector\u001b[0m\u001b[0;34m)\u001b[0m\u001b[0;34m\u001b[0m\u001b[0;34m\u001b[0m\u001b[0m\n\u001b[1;32m      4\u001b[0m \u001b[0mmasculine_words\u001b[0m\u001b[0;34m.\u001b[0m\u001b[0mappend\u001b[0m\u001b[0;34m(\u001b[0m\u001b[0;34m\"mas_avg\"\u001b[0m\u001b[0;34m)\u001b[0m\u001b[0;34m\u001b[0m\u001b[0;34m\u001b[0m\u001b[0m\n\u001b[1;32m      5\u001b[0m \u001b[0mIPython\u001b[0m\u001b[0;34m.\u001b[0m\u001b[0mdisplay\u001b[0m\u001b[0;34m.\u001b[0m\u001b[0mHTML\u001b[0m\u001b[0;34m(\u001b[0m\u001b[0msimilar_vec\u001b[0m\u001b[0;34m(\u001b[0m\u001b[0mmas_vecs\u001b[0m\u001b[0;34m,\u001b[0m \u001b[0mmasculine_words\u001b[0m\u001b[0;34m)\u001b[0m\u001b[0;34m.\u001b[0m\u001b[0mrender\u001b[0m\u001b[0;34m(\u001b[0m\u001b[0;34m)\u001b[0m\u001b[0;34m)\u001b[0m\u001b[0;34m\u001b[0m\u001b[0;34m\u001b[0m\u001b[0m\n",
            "\u001b[0;31mNameError\u001b[0m: name 'masculine_words' is not defined"
          ]
        }
      ]
    }
  ]
}